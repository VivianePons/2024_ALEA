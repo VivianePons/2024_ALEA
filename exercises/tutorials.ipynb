{
 "cells": [
  {
   "cell_type": "markdown",
   "id": "c105784a-fdef-4f93-83f0-7c1a8e6ed32a",
   "metadata": {},
   "source": [
    "The [SageMath documentation](https://doc.sagemath.org/) offers a list of [Thematic tutorials](https://doc.sagemath.org/html/en/thematic_tutorials/index.html) that are very useful. I present a few here that I invite you to follow:\n",
    "\n",
    "* [programming in python and Sage](https://doc.sagemath.org/html/en/thematic_tutorials/tutorial-programming-python.html) : learn how to use the python language within sage with its syntax and multiple data structures\n",
    "* [Tutorial: Comprehensions, Iterators, and Iterables](https://doc.sagemath.org/html/en/thematic_tutorials/tutorial-comprehensions.html) an introduction to python iterators and list comprehension\n",
    "* [Objects and Classes in Python and Sage](https://doc.sagemath.org/html/en/thematic_tutorials/tutorial-objects-and-classes.html)\n",
    "* [Introduction to combinatorics in Sage](https://doc.sagemath.org/html/en/reference/combinat/sage/combinat/tutorial.html) : to add on what we saw in class with a specific section about generating functions"
   ]
  },
  {
   "cell_type": "code",
   "execution_count": null,
   "id": "edb554fd-6e24-4395-ae02-135d6155a828",
   "metadata": {},
   "outputs": [],
   "source": []
  }
 ],
 "metadata": {
  "kernelspec": {
   "display_name": "SageMath 10.2",
   "language": "sage",
   "name": "sagemath"
  },
  "language_info": {
   "codemirror_mode": {
    "name": "ipython",
    "version": 3
   },
   "file_extension": ".py",
   "mimetype": "text/x-python",
   "name": "python",
   "nbconvert_exporter": "python",
   "pygments_lexer": "ipython3",
   "version": "3.11.8"
  }
 },
 "nbformat": 4,
 "nbformat_minor": 5
}
