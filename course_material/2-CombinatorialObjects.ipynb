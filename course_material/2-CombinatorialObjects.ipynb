{
 "cells": [
  {
   "cell_type": "markdown",
   "id": "7c37dc3f-015c-4c53-9527-c3092e173478",
   "metadata": {},
   "source": [
    "# Combinatorial objects in Sage\n",
    "\n",
    "## what's an object anyway?\n",
    "\n",
    "An object is a variable that contains extra structure: \n",
    "* fields (intern variables)\n",
    "* methods (function that can be applied to said variable)\n",
    "\n",
    "This structure is defined in the object *class*. We say that an object is an instance of a class.\n",
    "\n",
    "you can access all these intern properties with the dot notation"
   ]
  },
  {
   "cell_type": "code",
   "execution_count": 12,
   "id": "981d1b14-bbd3-427b-a291-86207f7f6fd1",
   "metadata": {},
   "outputs": [],
   "source": [
    "dw = DyckWord([1,0,1,0]) # I create an object"
   ]
  },
  {
   "cell_type": "code",
   "execution_count": 13,
   "id": "846f0f6d-dc60-4dae-ab41-fd87a088a10d",
   "metadata": {},
   "outputs": [
    {
     "data": {
      "text/plain": [
       "[0, 0]"
      ]
     },
     "execution_count": 13,
     "metadata": {},
     "output_type": "execute_result"
    }
   ],
   "source": [
    "dw.to_area_sequence() # I call a method"
   ]
  },
  {
   "cell_type": "code",
   "execution_count": 14,
   "id": "bd65426e-2ded-44c2-b10f-8f7d2413a951",
   "metadata": {},
   "outputs": [
    {
     "data": {
      "text/plain": [
       "<class 'sage.combinat.dyck_word.CompleteDyckWords_all_with_category.element_class'>"
      ]
     },
     "execution_count": 14,
     "metadata": {},
     "output_type": "execute_result"
    }
   ],
   "source": [
    "dw.__class__"
   ]
  },
  {
   "cell_type": "code",
   "execution_count": 15,
   "id": "d5f289e8-6b4d-48b4-9ecd-40d35dae57ca",
   "metadata": {},
   "outputs": [
    {
     "data": {
      "text/plain": [
       "<bound method DyckWord.to_area_sequence of [1, 0, 1, 0]>"
      ]
     },
     "execution_count": 15,
     "metadata": {},
     "output_type": "execute_result"
    }
   ],
   "source": [
    "dw.to_area_sequence"
   ]
  },
  {
   "cell_type": "markdown",
   "id": "cd9b2c04-5801-489b-8ba1-288fffa85155",
   "metadata": {},
   "source": [
    "Here is a small example of a python class and creation of an instance"
   ]
  },
  {
   "cell_type": "code",
   "execution_count": 19,
   "id": "6189b8fa-934d-442d-b7e7-a1e490bc97ea",
   "metadata": {},
   "outputs": [],
   "source": [
    "class myCat():\n",
    "\n",
    "    def __init__(self, name):\n",
    "        self._name = name\n",
    "        self._happy = True\n",
    "\n",
    "    def name(self):\n",
    "        return self._name\n",
    "\n",
    "    def __repr__(self):\n",
    "        return \"A cat named \" + self._name\n",
    "\n",
    "    def is_happy(self):\n",
    "        return self._happy\n",
    "\n",
    "    def splash_water(self):\n",
    "        self._happy = False"
   ]
  },
  {
   "cell_type": "code",
   "execution_count": 20,
   "id": "8b59faff-717f-4544-83f6-63c6bcb4e6d3",
   "metadata": {},
   "outputs": [
    {
     "data": {
      "text/plain": [
       "A cat named Garfield"
      ]
     },
     "execution_count": 20,
     "metadata": {},
     "output_type": "execute_result"
    }
   ],
   "source": [
    "garfield = myCat(\"Garfield\")\n",
    "garfield"
   ]
  },
  {
   "cell_type": "code",
   "execution_count": 21,
   "id": "ae4a0733-586d-4490-aadf-56f34f50bddd",
   "metadata": {},
   "outputs": [
    {
     "data": {
      "text/plain": [
       "True"
      ]
     },
     "execution_count": 21,
     "metadata": {},
     "output_type": "execute_result"
    }
   ],
   "source": [
    "garfield.is_happy()"
   ]
  },
  {
   "cell_type": "code",
   "execution_count": 22,
   "id": "7c0a27fd-78f5-4f92-96b2-ce9fc016484e",
   "metadata": {},
   "outputs": [
    {
     "data": {
      "text/plain": [
       "'Garfield'"
      ]
     },
     "execution_count": 22,
     "metadata": {},
     "output_type": "execute_result"
    }
   ],
   "source": [
    "garfield.name()"
   ]
  },
  {
   "cell_type": "code",
   "execution_count": 23,
   "id": "18bc69ed-0aea-4acc-bf74-991a1b669ea5",
   "metadata": {},
   "outputs": [],
   "source": [
    "garfield.splash_water()"
   ]
  },
  {
   "cell_type": "code",
   "execution_count": 24,
   "id": "98420c92-9ed5-432b-882b-29c6897b92a2",
   "metadata": {},
   "outputs": [
    {
     "data": {
      "text/plain": [
       "False"
      ]
     },
     "execution_count": 24,
     "metadata": {},
     "output_type": "execute_result"
    }
   ],
   "source": [
    "garfield.is_happy()"
   ]
  },
  {
   "cell_type": "markdown",
   "id": "f7d49729-5610-46cf-b634-88cc10e0ec95",
   "metadata": {},
   "source": [
    "In python *everything* is an object and, most of the time, you can access all the internal structure (which might be a good thing or not)"
   ]
  },
  {
   "cell_type": "code",
   "execution_count": 25,
   "id": "96e738ad-5090-496e-8d47-6f4b879e4d24",
   "metadata": {},
   "outputs": [],
   "source": [
    "garfield._happy = True"
   ]
  },
  {
   "cell_type": "code",
   "execution_count": 26,
   "id": "f60dc341-4c12-472b-bad2-b88e7c479073",
   "metadata": {},
   "outputs": [
    {
     "data": {
      "text/plain": [
       "True"
      ]
     },
     "execution_count": 26,
     "metadata": {},
     "output_type": "execute_result"
    }
   ],
   "source": [
    "garfield.is_happy()"
   ]
  },
  {
   "cell_type": "markdown",
   "id": "1a554f9f-1dc7-4682-8ba8-cd4b89875687",
   "metadata": {},
   "source": [
    "The internal structure of most sage objects is actually quite complicated. But, *most of the time*, you won't have to go into the technichals. You can just *use* the objects \n",
    "\n",
    "**Something important**\n",
    "\n",
    "In python (and so in Sage), objects are manipulated through *references*. A \"variable\" is just a label attached to an actual object. If I attach twice the same object to two different variables, both variables can change my object"
   ]
  },
  {
   "cell_type": "code",
   "execution_count": 27,
   "id": "4b7de88b-6dc0-4771-9a94-3730a20d36ab",
   "metadata": {},
   "outputs": [],
   "source": [
    "garfield = myCat(\"Garfield\") # this is a new instance, the previous instance is lost\n",
    "garfield2 = garfield # a second label attached to the **same** object"
   ]
  },
  {
   "cell_type": "code",
   "execution_count": 28,
   "id": "fbb4f7eb-817e-4436-afa3-6aa7218d7337",
   "metadata": {},
   "outputs": [
    {
     "data": {
      "text/plain": [
       "True"
      ]
     },
     "execution_count": 28,
     "metadata": {},
     "output_type": "execute_result"
    }
   ],
   "source": [
    "garfield.is_happy()"
   ]
  },
  {
   "cell_type": "code",
   "execution_count": 29,
   "id": "c8e40f7c-c7b8-415f-8e68-3492d76867cb",
   "metadata": {},
   "outputs": [
    {
     "data": {
      "text/plain": [
       "True"
      ]
     },
     "execution_count": 29,
     "metadata": {},
     "output_type": "execute_result"
    }
   ],
   "source": [
    "garfield2.is_happy()"
   ]
  },
  {
   "cell_type": "code",
   "execution_count": 30,
   "id": "55d00c0c-59a2-437c-9ab8-f7eb282fa7d7",
   "metadata": {},
   "outputs": [],
   "source": [
    "garfield.splash_water()"
   ]
  },
  {
   "cell_type": "code",
   "execution_count": 31,
   "id": "673a9fc6-2829-4ef0-8d21-1b7686559f0e",
   "metadata": {},
   "outputs": [
    {
     "data": {
      "text/plain": [
       "False"
      ]
     },
     "execution_count": 31,
     "metadata": {},
     "output_type": "execute_result"
    }
   ],
   "source": [
    "garfield.is_happy()"
   ]
  },
  {
   "cell_type": "code",
   "execution_count": 32,
   "id": "8bbd235c-4405-40af-adde-dd96263d3524",
   "metadata": {},
   "outputs": [
    {
     "data": {
      "text/plain": [
       "False"
      ]
     },
     "execution_count": 32,
     "metadata": {},
     "output_type": "execute_result"
    }
   ],
   "source": [
    "garfield2.is_happy()"
   ]
  },
  {
   "cell_type": "markdown",
   "id": "138b1f95-d71a-44b7-a758-f552d5e5d171",
   "metadata": {},
   "source": [
    "[More on this subject](https://doc.sagemath.org/html/en/thematic_tutorials/tutorial-objects-and-classes.html)"
   ]
  },
  {
   "cell_type": "markdown",
   "id": "3b30c36a-2a95-4995-95e0-25bf81954722",
   "metadata": {},
   "source": [
    "## Objects for sets of objects\n",
    "\n",
    "In combinatorics, we often have to manipulate sets of objects. These sets are even sometimes infinite. In general, we will have one class corresponding to the set itself called the *parent* and one class for the *elements* of the set. These are two different classes!\n",
    "\n",
    "Examples:"
   ]
  },
  {
   "cell_type": "code",
   "execution_count": 33,
   "id": "77fe447f-4b77-43b1-a331-ad34ad4735bc",
   "metadata": {},
   "outputs": [
    {
     "data": {
      "text/plain": [
       "Subsets of {1, 2, 3}"
      ]
     },
     "execution_count": 33,
     "metadata": {},
     "output_type": "execute_result"
    }
   ],
   "source": [
    "# the parent\n",
    "S3 = Subsets([1,2,3])\n",
    "S3"
   ]
  },
  {
   "cell_type": "code",
   "execution_count": 42,
   "id": "9a2e06ff-d75f-4a4d-8396-77090c93dbc9",
   "metadata": {},
   "outputs": [
    {
     "data": {
      "text/plain": [
       "<class 'sage.combinat.subset.Subsets_s_with_category'>"
      ]
     },
     "execution_count": 42,
     "metadata": {},
     "output_type": "execute_result"
    }
   ],
   "source": [
    "type(S3)"
   ]
  },
  {
   "cell_type": "code",
   "execution_count": 34,
   "id": "020afa41-b4d6-4beb-ab06-1632a74f5e43",
   "metadata": {},
   "outputs": [
    {
     "data": {
      "text/plain": [
       "8"
      ]
     },
     "execution_count": 34,
     "metadata": {},
     "output_type": "execute_result"
    }
   ],
   "source": [
    "S3.cardinality()"
   ]
  },
  {
   "cell_type": "code",
   "execution_count": 35,
   "id": "89d6680a-d20e-4b90-8924-55f4f776cb55",
   "metadata": {},
   "outputs": [
    {
     "data": {
      "text/plain": [
       "{1, 2}"
      ]
     },
     "execution_count": 35,
     "metadata": {},
     "output_type": "execute_result"
    }
   ],
   "source": [
    "S3.an_element() # an example of an element (always the same)"
   ]
  },
  {
   "cell_type": "code",
   "execution_count": 38,
   "id": "b8b5aefe-17cb-4c7f-8866-116c288a9e6f",
   "metadata": {},
   "outputs": [
    {
     "data": {
      "text/plain": [
       "{1, 3}"
      ]
     },
     "execution_count": 38,
     "metadata": {},
     "output_type": "execute_result"
    }
   ],
   "source": [
    "S3.random_element() # a random element"
   ]
  },
  {
   "cell_type": "code",
   "execution_count": 39,
   "id": "21455ef9-4389-46c3-9c2c-b392f49fc1cb",
   "metadata": {},
   "outputs": [
    {
     "data": {
      "text/plain": [
       "[{}, {1}, {2}, {3}, {1, 2}, {1, 3}, {2, 3}, {1, 2, 3}]"
      ]
     },
     "execution_count": 39,
     "metadata": {},
     "output_type": "execute_result"
    }
   ],
   "source": [
    "list(S3) # listing all the elements"
   ]
  },
  {
   "cell_type": "code",
   "execution_count": null,
   "id": "73c3147e-efcd-4a01-87e8-9e54bdddc076",
   "metadata": {},
   "outputs": [],
   "source": []
  },
  {
   "cell_type": "code",
   "execution_count": 41,
   "id": "252c3b94-56de-461b-bbca-a27d22ea4f33",
   "metadata": {},
   "outputs": [
    {
     "data": {
      "text/plain": [
       "{1, 2}"
      ]
     },
     "execution_count": 41,
     "metadata": {},
     "output_type": "execute_result"
    }
   ],
   "source": [
    "# the element\n",
    "s = S3.an_element()\n",
    "s"
   ]
  },
  {
   "cell_type": "code",
   "execution_count": 43,
   "id": "20e5bcf2-9cde-40e8-aa40-45e101c55cae",
   "metadata": {},
   "outputs": [
    {
     "data": {
      "text/plain": [
       "<class 'sage.sets.set.Set_object_enumerated_with_category'>"
      ]
     },
     "execution_count": 43,
     "metadata": {},
     "output_type": "execute_result"
    }
   ],
   "source": [
    "type(s)"
   ]
  },
  {
   "cell_type": "code",
   "execution_count": 45,
   "id": "55654ec8-ced3-4f29-a5c9-1feeb0e248e0",
   "metadata": {},
   "outputs": [
    {
     "data": {
      "text/plain": [
       "{1, 2}"
      ]
     },
     "execution_count": 45,
     "metadata": {},
     "output_type": "execute_result"
    }
   ],
   "source": [
    "s = S3([1,2]) # another way to create the elemnt\n",
    "s"
   ]
  },
  {
   "cell_type": "code",
   "execution_count": 51,
   "id": "4d88b872-c182-4402-84e4-bf0c354f3db7",
   "metadata": {},
   "outputs": [
    {
     "data": {
      "text/plain": [
       "True"
      ]
     },
     "execution_count": 51,
     "metadata": {},
     "output_type": "execute_result"
    }
   ],
   "source": [
    "s in S3"
   ]
  },
  {
   "cell_type": "code",
   "execution_count": null,
   "id": "9107bc2b-ce9e-4963-8fa7-81f3424f63b5",
   "metadata": {},
   "outputs": [],
   "source": []
  }
 ],
 "metadata": {
  "kernelspec": {
   "display_name": "SageMath 10.2",
   "language": "sage",
   "name": "sagemath"
  },
  "language_info": {
   "codemirror_mode": {
    "name": "ipython",
    "version": 3
   },
   "file_extension": ".py",
   "mimetype": "text/x-python",
   "name": "python",
   "nbconvert_exporter": "python",
   "pygments_lexer": "ipython3",
   "version": "3.11.8"
  }
 },
 "nbformat": 4,
 "nbformat_minor": 5
}
