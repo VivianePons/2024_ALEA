{
 "cells": [
  {
   "cell_type": "markdown",
   "id": "7c37dc3f-015c-4c53-9527-c3092e173478",
   "metadata": {},
   "source": [
    "# Combinatorial objects in Sage\n",
    "\n",
    "## what's an object anyway?\n",
    "\n",
    "An object is a data structure that contains: \n",
    "* fields (intern variables)\n",
    "* methods (function that can be applied to said structure)\n",
    "\n",
    "The structure is defined in the object *class*. We say that an object is an instance of a class.\n",
    "\n",
    "you can access all these intern properties with the dot notation"
   ]
  },
  {
   "cell_type": "code",
   "execution_count": 1,
   "id": "981d1b14-bbd3-427b-a291-86207f7f6fd1",
   "metadata": {},
   "outputs": [],
   "source": [
    "dw = DyckWord([1,0,1,0]) # I create an object"
   ]
  },
  {
   "cell_type": "code",
   "execution_count": 2,
   "id": "846f0f6d-dc60-4dae-ab41-fd87a088a10d",
   "metadata": {},
   "outputs": [
    {
     "data": {
      "text/plain": [
       "[0, 0]"
      ]
     },
     "execution_count": 2,
     "metadata": {},
     "output_type": "execute_result"
    }
   ],
   "source": [
    "dw.to_area_sequence() # I call a method"
   ]
  },
  {
   "cell_type": "code",
   "execution_count": 3,
   "id": "bd65426e-2ded-44c2-b10f-8f7d2413a951",
   "metadata": {},
   "outputs": [
    {
     "data": {
      "text/plain": [
       "<class 'sage.combinat.dyck_word.CompleteDyckWords_all_with_category.element_class'>"
      ]
     },
     "execution_count": 3,
     "metadata": {},
     "output_type": "execute_result"
    }
   ],
   "source": [
    "dw.__class__"
   ]
  },
  {
   "cell_type": "code",
   "execution_count": 4,
   "id": "d5f289e8-6b4d-48b4-9ecd-40d35dae57ca",
   "metadata": {},
   "outputs": [
    {
     "data": {
      "text/plain": [
       "<bound method DyckWord.to_area_sequence of [1, 0, 1, 0]>"
      ]
     },
     "execution_count": 4,
     "metadata": {},
     "output_type": "execute_result"
    }
   ],
   "source": [
    "dw.to_area_sequence"
   ]
  },
  {
   "cell_type": "markdown",
   "id": "cd9b2c04-5801-489b-8ba1-288fffa85155",
   "metadata": {},
   "source": [
    "Here is a small example of a python class and creation of an instance"
   ]
  },
  {
   "cell_type": "code",
   "execution_count": 5,
   "id": "6189b8fa-934d-442d-b7e7-a1e490bc97ea",
   "metadata": {},
   "outputs": [],
   "source": [
    "class myCat():\n",
    "\n",
    "    def __init__(self, name):\n",
    "        self._name = name\n",
    "        self._happy = True\n",
    "\n",
    "    def name(self):\n",
    "        return self._name\n",
    "\n",
    "    def __repr__(self):\n",
    "        return \"A cat named \" + self._name\n",
    "\n",
    "    def is_happy(self):\n",
    "        return self._happy\n",
    "\n",
    "    def splash_water(self):\n",
    "        self._happy = False"
   ]
  },
  {
   "cell_type": "code",
   "execution_count": 6,
   "id": "8b59faff-717f-4544-83f6-63c6bcb4e6d3",
   "metadata": {},
   "outputs": [
    {
     "data": {
      "text/plain": [
       "A cat named Garfield"
      ]
     },
     "execution_count": 6,
     "metadata": {},
     "output_type": "execute_result"
    }
   ],
   "source": [
    "garfield = myCat(\"Garfield\")\n",
    "garfield"
   ]
  },
  {
   "cell_type": "code",
   "execution_count": 7,
   "id": "ae4a0733-586d-4490-aadf-56f34f50bddd",
   "metadata": {},
   "outputs": [
    {
     "data": {
      "text/plain": [
       "True"
      ]
     },
     "execution_count": 7,
     "metadata": {},
     "output_type": "execute_result"
    }
   ],
   "source": [
    "garfield.is_happy()"
   ]
  },
  {
   "cell_type": "code",
   "execution_count": 8,
   "id": "7c0a27fd-78f5-4f92-96b2-ce9fc016484e",
   "metadata": {},
   "outputs": [
    {
     "data": {
      "text/plain": [
       "'Garfield'"
      ]
     },
     "execution_count": 8,
     "metadata": {},
     "output_type": "execute_result"
    }
   ],
   "source": [
    "garfield.name()"
   ]
  },
  {
   "cell_type": "code",
   "execution_count": 9,
   "id": "18bc69ed-0aea-4acc-bf74-991a1b669ea5",
   "metadata": {},
   "outputs": [],
   "source": [
    "garfield.splash_water()"
   ]
  },
  {
   "cell_type": "code",
   "execution_count": 10,
   "id": "98420c92-9ed5-432b-882b-29c6897b92a2",
   "metadata": {},
   "outputs": [
    {
     "data": {
      "text/plain": [
       "False"
      ]
     },
     "execution_count": 10,
     "metadata": {},
     "output_type": "execute_result"
    }
   ],
   "source": [
    "garfield.is_happy()"
   ]
  },
  {
   "cell_type": "markdown",
   "id": "f7d49729-5610-46cf-b634-88cc10e0ec95",
   "metadata": {},
   "source": [
    "In python *everything* is an object and, most of the time, you can access all the internal structure (which might be a good thing or not)"
   ]
  },
  {
   "cell_type": "code",
   "execution_count": 11,
   "id": "96e738ad-5090-496e-8d47-6f4b879e4d24",
   "metadata": {},
   "outputs": [],
   "source": [
    "garfield._happy = True"
   ]
  },
  {
   "cell_type": "code",
   "execution_count": 12,
   "id": "f60dc341-4c12-472b-bad2-b88e7c479073",
   "metadata": {},
   "outputs": [
    {
     "data": {
      "text/plain": [
       "True"
      ]
     },
     "execution_count": 12,
     "metadata": {},
     "output_type": "execute_result"
    }
   ],
   "source": [
    "garfield.is_happy()"
   ]
  },
  {
   "cell_type": "markdown",
   "id": "1a554f9f-1dc7-4682-8ba8-cd4b89875687",
   "metadata": {},
   "source": [
    "The internal structure of most sage objects is actually quite complicated. But, *most of the time*, you won't have to go into the technichals. You can just *use* the objects \n",
    "\n",
    "**Something important**\n",
    "\n",
    "In python (and so in Sage), objects are manipulated through *references*. A \"variable\" is just a label attached to an actual object. If I attach twice the same object to two different variables, both variables can change my object"
   ]
  },
  {
   "cell_type": "code",
   "execution_count": 13,
   "id": "4b7de88b-6dc0-4771-9a94-3730a20d36ab",
   "metadata": {},
   "outputs": [],
   "source": [
    "garfield = myCat(\"Garfield\") # this is a new instance, the previous instance is lost\n",
    "garfield2 = garfield # a second label attached to the **same** object"
   ]
  },
  {
   "cell_type": "code",
   "execution_count": 14,
   "id": "fbb4f7eb-817e-4436-afa3-6aa7218d7337",
   "metadata": {},
   "outputs": [
    {
     "data": {
      "text/plain": [
       "True"
      ]
     },
     "execution_count": 14,
     "metadata": {},
     "output_type": "execute_result"
    }
   ],
   "source": [
    "garfield.is_happy()"
   ]
  },
  {
   "cell_type": "code",
   "execution_count": 15,
   "id": "c8e40f7c-c7b8-415f-8e68-3492d76867cb",
   "metadata": {},
   "outputs": [
    {
     "data": {
      "text/plain": [
       "True"
      ]
     },
     "execution_count": 15,
     "metadata": {},
     "output_type": "execute_result"
    }
   ],
   "source": [
    "garfield2.is_happy()"
   ]
  },
  {
   "cell_type": "code",
   "execution_count": 16,
   "id": "55d00c0c-59a2-437c-9ab8-f7eb282fa7d7",
   "metadata": {},
   "outputs": [],
   "source": [
    "garfield.splash_water()"
   ]
  },
  {
   "cell_type": "code",
   "execution_count": 17,
   "id": "673a9fc6-2829-4ef0-8d21-1b7686559f0e",
   "metadata": {},
   "outputs": [
    {
     "data": {
      "text/plain": [
       "False"
      ]
     },
     "execution_count": 17,
     "metadata": {},
     "output_type": "execute_result"
    }
   ],
   "source": [
    "garfield.is_happy()"
   ]
  },
  {
   "cell_type": "code",
   "execution_count": 18,
   "id": "8bbd235c-4405-40af-adde-dd96263d3524",
   "metadata": {},
   "outputs": [
    {
     "data": {
      "text/plain": [
       "False"
      ]
     },
     "execution_count": 18,
     "metadata": {},
     "output_type": "execute_result"
    }
   ],
   "source": [
    "garfield2.is_happy()"
   ]
  },
  {
   "cell_type": "markdown",
   "id": "138b1f95-d71a-44b7-a758-f552d5e5d171",
   "metadata": {},
   "source": [
    "[More on this subject](https://doc.sagemath.org/html/en/thematic_tutorials/tutorial-objects-and-classes.html)"
   ]
  },
  {
   "cell_type": "markdown",
   "id": "3b30c36a-2a95-4995-95e0-25bf81954722",
   "metadata": {},
   "source": [
    "## Objects for sets of objects\n",
    "\n",
    "In combinatorics, we often have to manipulate sets of objects. These sets are even sometimes infinite. In general, we will have one class corresponding to the set itself called the *parent* and one class for the *elements* of the set. These are two different classes!\n",
    "\n",
    "Examples:"
   ]
  },
  {
   "cell_type": "code",
   "execution_count": 19,
   "id": "77fe447f-4b77-43b1-a331-ad34ad4735bc",
   "metadata": {},
   "outputs": [
    {
     "data": {
      "text/plain": [
       "Subsets of {1, 2, 3}"
      ]
     },
     "execution_count": 19,
     "metadata": {},
     "output_type": "execute_result"
    }
   ],
   "source": [
    "# the parent\n",
    "S3 = Subsets([1,2,3])\n",
    "S3"
   ]
  },
  {
   "cell_type": "code",
   "execution_count": 20,
   "id": "9a2e06ff-d75f-4a4d-8396-77090c93dbc9",
   "metadata": {},
   "outputs": [
    {
     "data": {
      "text/plain": [
       "<class 'sage.combinat.subset.Subsets_s_with_category'>"
      ]
     },
     "execution_count": 20,
     "metadata": {},
     "output_type": "execute_result"
    }
   ],
   "source": [
    "type(S3)"
   ]
  },
  {
   "cell_type": "code",
   "execution_count": 21,
   "id": "020afa41-b4d6-4beb-ab06-1632a74f5e43",
   "metadata": {},
   "outputs": [
    {
     "data": {
      "text/plain": [
       "8"
      ]
     },
     "execution_count": 21,
     "metadata": {},
     "output_type": "execute_result"
    }
   ],
   "source": [
    "S3.cardinality()"
   ]
  },
  {
   "cell_type": "code",
   "execution_count": 22,
   "id": "89d6680a-d20e-4b90-8924-55f4f776cb55",
   "metadata": {},
   "outputs": [
    {
     "data": {
      "text/plain": [
       "{1, 2}"
      ]
     },
     "execution_count": 22,
     "metadata": {},
     "output_type": "execute_result"
    }
   ],
   "source": [
    "S3.an_element() # an example of an element (always the same)"
   ]
  },
  {
   "cell_type": "code",
   "execution_count": 23,
   "id": "b8b5aefe-17cb-4c7f-8866-116c288a9e6f",
   "metadata": {},
   "outputs": [
    {
     "data": {
      "text/plain": [
       "{1, 2}"
      ]
     },
     "execution_count": 23,
     "metadata": {},
     "output_type": "execute_result"
    }
   ],
   "source": [
    "S3.random_element() # a random element"
   ]
  },
  {
   "cell_type": "code",
   "execution_count": 24,
   "id": "21455ef9-4389-46c3-9c2c-b392f49fc1cb",
   "metadata": {},
   "outputs": [
    {
     "data": {
      "text/plain": [
       "[{}, {1}, {2}, {3}, {1, 2}, {1, 3}, {2, 3}, {1, 2, 3}]"
      ]
     },
     "execution_count": 24,
     "metadata": {},
     "output_type": "execute_result"
    }
   ],
   "source": [
    "list(S3) # listing all the elements"
   ]
  },
  {
   "cell_type": "code",
   "execution_count": null,
   "id": "73c3147e-efcd-4a01-87e8-9e54bdddc076",
   "metadata": {},
   "outputs": [],
   "source": []
  },
  {
   "cell_type": "code",
   "execution_count": 25,
   "id": "252c3b94-56de-461b-bbca-a27d22ea4f33",
   "metadata": {},
   "outputs": [
    {
     "data": {
      "text/plain": [
       "{1, 2}"
      ]
     },
     "execution_count": 25,
     "metadata": {},
     "output_type": "execute_result"
    }
   ],
   "source": [
    "# the element\n",
    "s = S3.an_element()\n",
    "s"
   ]
  },
  {
   "cell_type": "code",
   "execution_count": 26,
   "id": "20e5bcf2-9cde-40e8-aa40-45e101c55cae",
   "metadata": {},
   "outputs": [
    {
     "data": {
      "text/plain": [
       "<class 'sage.sets.set.Set_object_enumerated_with_category'>"
      ]
     },
     "execution_count": 26,
     "metadata": {},
     "output_type": "execute_result"
    }
   ],
   "source": [
    "type(s)"
   ]
  },
  {
   "cell_type": "code",
   "execution_count": 35,
   "id": "55654ec8-ced3-4f29-a5c9-1feeb0e248e0",
   "metadata": {},
   "outputs": [
    {
     "data": {
      "text/plain": [
       "{1, 2}"
      ]
     },
     "execution_count": 35,
     "metadata": {},
     "output_type": "execute_result"
    }
   ],
   "source": [
    "s = S3([1,2]) # another way to create the elemnt\n",
    "s"
   ]
  },
  {
   "cell_type": "code",
   "execution_count": 28,
   "id": "4d88b872-c182-4402-84e4-bf0c354f3db7",
   "metadata": {},
   "outputs": [
    {
     "data": {
      "text/plain": [
       "True"
      ]
     },
     "execution_count": 28,
     "metadata": {},
     "output_type": "execute_result"
    }
   ],
   "source": [
    "s in S3"
   ]
  },
  {
   "cell_type": "code",
   "execution_count": 37,
   "id": "9107bc2b-ce9e-4963-8fa7-81f3424f63b5",
   "metadata": {},
   "outputs": [
    {
     "data": {
      "text/plain": [
       "{1, 2}"
      ]
     },
     "execution_count": 37,
     "metadata": {},
     "output_type": "execute_result"
    }
   ],
   "source": [
    "s = Set([1,2]) # another way to create the element\n",
    "s"
   ]
  },
  {
   "cell_type": "markdown",
   "id": "81d7cbba-6dbd-4d22-9f27-467309c1e9e6",
   "metadata": {},
   "source": [
    "Having a specific class for the parent allows us to symbolically manipulate big sets of objetcs without actually creating all the objetcs "
   ]
  },
  {
   "cell_type": "code",
   "execution_count": 43,
   "id": "7c33b997-585a-4394-b31d-40606bf5ba4d",
   "metadata": {},
   "outputs": [],
   "source": [
    "S200 = Subsets(range(200))"
   ]
  },
  {
   "cell_type": "code",
   "execution_count": 44,
   "id": "e8dea859-b846-4431-9b82-6a52eec0e671",
   "metadata": {},
   "outputs": [
    {
     "data": {
      "text/plain": [
       "Subsets of {0, 1, 2, 3, 4, 5, 6, 7, 8, 9, 10, 11, 12, 13, 14, 15, 16, 17, 18, 19, 20, 21, 22, 23, 24, 25, 26, 27, 28, 29, 30, 31, 32, 33, 34, 35, 36, 37, 38, 39, 40, 41, 42, 43, 44, 45, 46, 47, 48, 49, 50, 51, 52, 53, 54, 55, 56, 57, 58, 59, 60, 61, 62, 63, 64, 65, 66, 67, 68, 69, 70, 71, 72, 73, 74, 75, 76, 77, 78, 79, 80, 81, 82, 83, 84, 85, 86, 87, 88, 89, 90, 91, 92, 93, 94, 95, 96, 97, 98, 99, 100, 101, 102, 103, 104, 105, 106, 107, 108, 109, 110, 111, 112, 113, 114, 115, 116, 117, 118, 119, 120, 121, 122, 123, 124, 125, 126, 127, 128, 129, 130, 131, 132, 133, 134, 135, 136, 137, 138, 139, 140, 141, 142, 143, 144, 145, 146, 147, 148, 149, 150, 151, 152, 153, 154, 155, 156, 157, 158, 159, 160, 161, 162, 163, 164, 165, 166, 167, 168, 169, 170, 171, 172, 173, 174, 175, 176, 177, 178, 179, 180, 181, 182, 183, 184, 185, 186, 187, 188, 189, 190, 191, 192, 193, 194, 195, 196, 197, 198, 199}"
      ]
     },
     "execution_count": 44,
     "metadata": {},
     "output_type": "execute_result"
    }
   ],
   "source": [
    "S200"
   ]
  },
  {
   "cell_type": "code",
   "execution_count": 45,
   "id": "2c795180-dd02-47f6-8d5d-070ab5d65842",
   "metadata": {},
   "outputs": [
    {
     "data": {
      "text/plain": [
       "1606938044258990275541962092341162602522202993782792835301376"
      ]
     },
     "execution_count": 45,
     "metadata": {},
     "output_type": "execute_result"
    }
   ],
   "source": [
    "S200.cardinality()"
   ]
  },
  {
   "cell_type": "code",
   "execution_count": 46,
   "id": "f6239fd7-4e7b-4435-9078-bad9285fbd44",
   "metadata": {},
   "outputs": [
    {
     "data": {
      "text/plain": [
       "{4, 5, 8, 9, 12, 14, 17, 18, 21, 25, 27, 29, 30, 34, 37, 38, 39, 40, 41, 43, 44, 45, 47, 48, 49, 53, 55, 59, 60, 64, 66, 69, 70, 71, 73, 75, 77, 78, 79, 81, 82, 85, 87, 88, 91, 92, 93, 102, 103, 110, 112, 116, 118, 121, 122, 126, 127, 128, 129, 130, 131, 134, 135, 136, 137, 139, 142, 144, 145, 147, 148, 149, 152, 155, 156, 157, 158, 160, 163, 164, 166, 167, 169, 173, 175, 179, 180, 183, 184, 185, 188, 191, 193, 195, 196}"
      ]
     },
     "execution_count": 46,
     "metadata": {},
     "output_type": "execute_result"
    }
   ],
   "source": [
    "S200.random_element()"
   ]
  },
  {
   "cell_type": "code",
   "execution_count": 47,
   "id": "2934b367-8294-4909-aa00-1fab7ddd3203",
   "metadata": {},
   "outputs": [
    {
     "name": "stdout",
     "output_type": "stream",
     "text": [
      "{100}\n"
     ]
    }
   ],
   "source": [
    "for s in S200:\n",
    "    if 100 in s:\n",
    "        print(s)\n",
    "        break"
   ]
  },
  {
   "cell_type": "markdown",
   "id": "29361bd7-cb98-4e93-937b-2f1e35332e0a",
   "metadata": {},
   "source": [
    "Besides, parents also have \"categories\" and are embeded with a bunch of default methods "
   ]
  },
  {
   "cell_type": "code",
   "execution_count": 48,
   "id": "2f0879b1-0c3f-4c9d-82a9-eb01cab55a8f",
   "metadata": {},
   "outputs": [
    {
     "data": {
      "text/plain": [
       "[Category of finite enumerated sets,\n",
       " Category of enumerated sets,\n",
       " Category of finite sets,\n",
       " Category of sets,\n",
       " Category of sets with partial maps,\n",
       " Category of objects]"
      ]
     },
     "execution_count": 48,
     "metadata": {},
     "output_type": "execute_result"
    }
   ],
   "source": [
    "S200.categories()"
   ]
  },
  {
   "cell_type": "markdown",
   "id": "2546e0d5-30f1-4407-8a4b-c5893b701407",
   "metadata": {},
   "source": [
    "In most examples from combinatorics, we manipulate \"enumerated sets\" or \"finite enumerated sets\". These objects are expected to implement an `__iter__` method to enumerate their elements using python iterators"
   ]
  },
  {
   "cell_type": "code",
   "execution_count": 49,
   "id": "44cd049e-e16e-4ae1-ada4-0c366a811366",
   "metadata": {},
   "outputs": [
    {
     "data": {
      "text/plain": [
       "\u001b[0;31mSignature:\u001b[0m \u001b[0mS200\u001b[0m\u001b[0;34m.\u001b[0m\u001b[0m__iter__\u001b[0m\u001b[0;34m(\u001b[0m\u001b[0;34m)\u001b[0m\u001b[0;34m\u001b[0m\u001b[0;34m\u001b[0m\u001b[0m\n",
       "\u001b[0;31mDocstring:\u001b[0m\n",
       "   Iterate through the subsets of \"s\".\n",
       "\n",
       "   EXAMPLES:\n",
       "\n",
       "      sage: [sub for sub in Subsets(Set([1,2,3]))]\n",
       "      [{}, {1}, {2}, {3}, {1, 2}, {1, 3}, {2, 3}, {1, 2, 3}]\n",
       "      sage: [sub for sub in Subsets(3)]\n",
       "      [{}, {1}, {2}, {3}, {1, 2}, {1, 3}, {2, 3}, {1, 2, 3}]\n",
       "      sage: [sub for sub in Subsets([1,2,3,3])]\n",
       "      [{}, {1}, {2}, {3}, {1, 2}, {1, 3}, {2, 3}, {1, 2, 3}]\n",
       "\u001b[0;31mSource:\u001b[0m   \n",
       "    \u001b[0;32mdef\u001b[0m \u001b[0m__iter__\u001b[0m\u001b[0;34m(\u001b[0m\u001b[0mself\u001b[0m\u001b[0;34m)\u001b[0m\u001b[0;34m:\u001b[0m\u001b[0;34m\u001b[0m\n",
       "\u001b[0;34m\u001b[0m        \u001b[0;34m\"\"\"\u001b[0m\n",
       "\u001b[0;34m        Iterate through the subsets of ``s``.\u001b[0m\n",
       "\u001b[0;34m\u001b[0m\n",
       "\u001b[0;34m        EXAMPLES::\u001b[0m\n",
       "\u001b[0;34m\u001b[0m\n",
       "\u001b[0;34m            sage: [sub for sub in Subsets(Set([1,2,3]))]\u001b[0m\n",
       "\u001b[0;34m            [{}, {1}, {2}, {3}, {1, 2}, {1, 3}, {2, 3}, {1, 2, 3}]\u001b[0m\n",
       "\u001b[0;34m            sage: [sub for sub in Subsets(3)]\u001b[0m\n",
       "\u001b[0;34m            [{}, {1}, {2}, {3}, {1, 2}, {1, 3}, {2, 3}, {1, 2, 3}]\u001b[0m\n",
       "\u001b[0;34m            sage: [sub for sub in Subsets([1,2,3,3])]\u001b[0m\n",
       "\u001b[0;34m            [{}, {1}, {2}, {3}, {1, 2}, {1, 3}, {2, 3}, {1, 2, 3}]\u001b[0m\n",
       "\u001b[0;34m\u001b[0m\n",
       "\u001b[0;34m        \"\"\"\u001b[0m\u001b[0;34m\u001b[0m\n",
       "\u001b[0;34m\u001b[0m        \u001b[0mk\u001b[0m \u001b[0;34m=\u001b[0m \u001b[0mZZ_0\u001b[0m\u001b[0;34m\u001b[0m\n",
       "\u001b[0;34m\u001b[0m        \u001b[0;32mwhile\u001b[0m \u001b[0mk\u001b[0m \u001b[0;34m<=\u001b[0m \u001b[0mself\u001b[0m\u001b[0;34m.\u001b[0m\u001b[0m_s\u001b[0m\u001b[0;34m.\u001b[0m\u001b[0mcardinality\u001b[0m\u001b[0;34m(\u001b[0m\u001b[0;34m)\u001b[0m\u001b[0;34m:\u001b[0m\u001b[0;34m\u001b[0m\n",
       "\u001b[0;34m\u001b[0m            \u001b[0;32mfor\u001b[0m \u001b[0mss\u001b[0m \u001b[0;32min\u001b[0m \u001b[0mSubsets_sk\u001b[0m\u001b[0;34m(\u001b[0m\u001b[0mself\u001b[0m\u001b[0;34m.\u001b[0m\u001b[0m_s\u001b[0m\u001b[0;34m,\u001b[0m \u001b[0mk\u001b[0m\u001b[0;34m)\u001b[0m\u001b[0;34m.\u001b[0m\u001b[0m_fast_iterator\u001b[0m\u001b[0;34m(\u001b[0m\u001b[0;34m)\u001b[0m\u001b[0;34m:\u001b[0m\u001b[0;34m\u001b[0m\n",
       "\u001b[0;34m\u001b[0m                \u001b[0;32myield\u001b[0m \u001b[0mself\u001b[0m\u001b[0;34m.\u001b[0m\u001b[0melement_class\u001b[0m\u001b[0;34m(\u001b[0m\u001b[0mss\u001b[0m\u001b[0;34m)\u001b[0m\u001b[0;34m\u001b[0m\n",
       "\u001b[0;34m\u001b[0m            \u001b[0mk\u001b[0m \u001b[0;34m+=\u001b[0m \u001b[0;36m1\u001b[0m\u001b[0;34m\u001b[0m\u001b[0;34m\u001b[0m\u001b[0m\n",
       "\u001b[0;31mFile:\u001b[0m      ~/miniconda3/envs/jupyter-sage/lib/python3.11/site-packages/sage/combinat/subset.py\n",
       "\u001b[0;31mType:\u001b[0m      method"
      ]
     },
     "metadata": {},
     "output_type": "display_data"
    }
   ],
   "source": [
    "S200.__iter__??"
   ]
  },
  {
   "cell_type": "markdown",
   "id": "5c810f98-a030-4c57-bfd1-468efa8f2faa",
   "metadata": {},
   "source": [
    "## Examples from combinatorics"
   ]
  },
  {
   "cell_type": "code",
   "execution_count": 50,
   "id": "8b099ac9-dc93-4bc1-97d0-45ec2b386754",
   "metadata": {},
   "outputs": [
    {
     "data": {
      "text/plain": [
       "Complete Dyck words"
      ]
     },
     "execution_count": 50,
     "metadata": {},
     "output_type": "execute_result"
    }
   ],
   "source": [
    "DW = DyckWords()\n",
    "DW"
   ]
  },
  {
   "cell_type": "code",
   "execution_count": 51,
   "id": "605fdb5a-7d3f-4ae5-abeb-af8e58924e9a",
   "metadata": {},
   "outputs": [
    {
     "data": {
      "text/plain": [
       "[Category of infinite enumerated sets,\n",
       " Category of enumerated sets,\n",
       " Category of infinite sets,\n",
       " Category of sets,\n",
       " Category of sets with partial maps,\n",
       " Category of objects]"
      ]
     },
     "execution_count": 51,
     "metadata": {},
     "output_type": "execute_result"
    }
   ],
   "source": [
    "DW.categories()"
   ]
  },
  {
   "cell_type": "code",
   "execution_count": 52,
   "id": "cfa615cd-9e6c-459f-95c5-9aed1a1d6aea",
   "metadata": {},
   "outputs": [
    {
     "data": {
      "image/svg+xml": [
       "<?xml version=\"1.0\" standalone=\"no\"?><!DOCTYPE svg PUBLIC \"-//W3C//DTD SVG 1.1//EN\" \"http://www.w3.org/Graphics/SVG/1.1/DTD/svg11.dtd\"><svg xmlns=\"http://www.w3.org/2000/svg\" xmlns:xlink=\"http://www.w3.org/1999/xlink\" width=\"500\" viewBox=\"-0.2 -1.2 10.4 1.4 \"><g style=\"stroke-width:0.1;stroke-linejoin:bevel; stroke-linecap:butt; stroke:black; fill:snow\"><polyline points=\"0,0 1,-1 2,0 3,-1 4,0 5,-1 6,0 7,-1 8,0 9,-1 10,0 \"/> </g><g style=\"stroke-width:0.05;stroke-linejoin:bevel;stroke-dasharray:0.25; stroke-linecap:butt; stroke:gray; fill:none\"><line x1=\"0\" y1=\"0\" x2=\"2\" y2=\"0\"/><line x1=\"2\" y1=\"0\" x2=\"4\" y2=\"0\"/><line x1=\"4\" y1=\"0\" x2=\"6\" y2=\"0\"/><line x1=\"6\" y1=\"0\" x2=\"8\" y2=\"0\"/><line x1=\"8\" y1=\"0\" x2=\"10\" y2=\"0\"/></g></svg>"
      ],
      "text/plain": [
       "[1, 0, 1, 0, 1, 0, 1, 0, 1, 0]"
      ]
     },
     "execution_count": 52,
     "metadata": {},
     "output_type": "execute_result"
    }
   ],
   "source": [
    "DW.an_element()"
   ]
  },
  {
   "cell_type": "code",
   "execution_count": 53,
   "id": "44c00608-ed87-4a90-91d3-15b94536e436",
   "metadata": {},
   "outputs": [
    {
     "data": {
      "text/plain": [
       "Dyck words with 3 opening parentheses and 3 closing parentheses"
      ]
     },
     "execution_count": 53,
     "metadata": {},
     "output_type": "execute_result"
    }
   ],
   "source": [
    "DW3 = DyckWords(3)\n",
    "DW3"
   ]
  },
  {
   "cell_type": "code",
   "execution_count": 54,
   "id": "7dfdcf4e-f146-4509-a045-9c5755e636e7",
   "metadata": {},
   "outputs": [
    {
     "data": {
      "text/plain": [
       "[Category of finite enumerated sets,\n",
       " Category of enumerated sets,\n",
       " Category of finite sets,\n",
       " Category of sets,\n",
       " Category of sets with partial maps,\n",
       " Category of objects]"
      ]
     },
     "execution_count": 54,
     "metadata": {},
     "output_type": "execute_result"
    }
   ],
   "source": [
    "DW3.categories()"
   ]
  },
  {
   "cell_type": "code",
   "execution_count": 66,
   "id": "8bb53da5-73bf-4baf-8052-0a19f666e46c",
   "metadata": {},
   "outputs": [
    {
     "data": {
      "text/plain": [
       "5"
      ]
     },
     "execution_count": 66,
     "metadata": {},
     "output_type": "execute_result"
    }
   ],
   "source": [
    "DW3.cardinality()"
   ]
  },
  {
   "cell_type": "code",
   "execution_count": 67,
   "id": "e5ab81f3-f5b5-42f0-ae75-3a3627394a34",
   "metadata": {},
   "outputs": [
    {
     "data": {
      "text/plain": [
       "[[1, 0, 1, 0, 1, 0],\n",
       " [1, 0, 1, 1, 0, 0],\n",
       " [1, 1, 0, 0, 1, 0],\n",
       " [1, 1, 0, 1, 0, 0],\n",
       " [1, 1, 1, 0, 0, 0]]"
      ]
     },
     "execution_count": 67,
     "metadata": {},
     "output_type": "execute_result"
    }
   ],
   "source": [
    "list(DW3)"
   ]
  },
  {
   "cell_type": "code",
   "execution_count": 55,
   "id": "47f41568-cf26-474f-b418-35084808a10e",
   "metadata": {},
   "outputs": [
    {
     "data": {
      "image/svg+xml": [
       "<?xml version=\"1.0\" standalone=\"no\"?><!DOCTYPE svg PUBLIC \"-//W3C//DTD SVG 1.1//EN\" \"http://www.w3.org/Graphics/SVG/1.1/DTD/svg11.dtd\"><svg xmlns=\"http://www.w3.org/2000/svg\" xmlns:xlink=\"http://www.w3.org/1999/xlink\" width=\"500\" viewBox=\"-0.2 -1.2 6.4 1.4 \"><g style=\"stroke-width:0.1;stroke-linejoin:bevel; stroke-linecap:butt; stroke:black; fill:snow\"><polyline points=\"0,0 1,-1 2,0 3,-1 4,0 5,-1 6,0 \"/> </g><g style=\"stroke-width:0.05;stroke-linejoin:bevel;stroke-dasharray:0.25; stroke-linecap:butt; stroke:gray; fill:none\"><line x1=\"0\" y1=\"0\" x2=\"2\" y2=\"0\"/><line x1=\"2\" y1=\"0\" x2=\"4\" y2=\"0\"/><line x1=\"4\" y1=\"0\" x2=\"6\" y2=\"0\"/></g></svg>"
      ],
      "text/plain": [
       "[1, 0, 1, 0, 1, 0]"
      ]
     },
     "execution_count": 55,
     "metadata": {},
     "output_type": "execute_result"
    }
   ],
   "source": [
    "DW3.an_element()"
   ]
  },
  {
   "cell_type": "code",
   "execution_count": 56,
   "id": "56c12540-94f7-46ab-91fa-3388eecc7ffb",
   "metadata": {},
   "outputs": [
    {
     "data": {
      "image/svg+xml": [
       "<?xml version=\"1.0\" standalone=\"no\"?><!DOCTYPE svg PUBLIC \"-//W3C//DTD SVG 1.1//EN\" \"http://www.w3.org/Graphics/SVG/1.1/DTD/svg11.dtd\"><svg xmlns=\"http://www.w3.org/2000/svg\" xmlns:xlink=\"http://www.w3.org/1999/xlink\" width=\"500\" viewBox=\"-0.2 -2.2 6.4 2.4 \"><g style=\"stroke-width:0.1;stroke-linejoin:bevel; stroke-linecap:butt; stroke:black; fill:snow\"><polyline points=\"0,0 1,-1 2,-2 3,-1 4,-2 5,-1 6,0 \"/> </g><g style=\"stroke-width:0.05;stroke-linejoin:bevel;stroke-dasharray:0.25; stroke-linecap:butt; stroke:gray; fill:none\"><line x1=\"1\" y1=\"-1\" x2=\"3\" y2=\"-1\"/><line x1=\"3\" y1=\"-1\" x2=\"5\" y2=\"-1\"/><line x1=\"0\" y1=\"0\" x2=\"6\" y2=\"0\"/></g></svg>"
      ],
      "text/plain": [
       "[1, 1, 0, 1, 0, 0]"
      ]
     },
     "execution_count": 56,
     "metadata": {},
     "output_type": "execute_result"
    }
   ],
   "source": [
    "DW3.random_element()"
   ]
  },
  {
   "cell_type": "code",
   "execution_count": 57,
   "id": "9f9c9796-305a-4c04-8827-9463bffe15e9",
   "metadata": {},
   "outputs": [
    {
     "data": {
      "text/plain": [
       "\u001b[0;31mSignature:\u001b[0m \u001b[0mDW3\u001b[0m\u001b[0;34m.\u001b[0m\u001b[0m__iter__\u001b[0m\u001b[0;34m(\u001b[0m\u001b[0;34m)\u001b[0m\u001b[0;34m\u001b[0m\u001b[0;34m\u001b[0m\u001b[0m\n",
       "\u001b[0;31mDocstring:\u001b[0m\n",
       "   Return an iterator for Dyck words with \"k1\" opening and \"k2\"\n",
       "   closing parentheses.\n",
       "\n",
       "   EXAMPLES:\n",
       "\n",
       "      sage: list(DyckWords(0))\n",
       "      [[]]\n",
       "      sage: list(DyckWords(1))\n",
       "      [[1, 0]]\n",
       "      sage: list(DyckWords(2))\n",
       "      [[1, 0, 1, 0], [1, 1, 0, 0]]\n",
       "      sage: len(DyckWords(5))\n",
       "      42\n",
       "      sage: list(DyckWords(3,2))\n",
       "      [[1, 0, 1, 0, 1],\n",
       "       [1, 0, 1, 1, 0],\n",
       "       [1, 1, 0, 0, 1],\n",
       "       [1, 1, 0, 1, 0],\n",
       "       [1, 1, 1, 0, 0]]\n",
       "\u001b[0;31mSource:\u001b[0m   \n",
       "    \u001b[0;32mdef\u001b[0m \u001b[0m__iter__\u001b[0m\u001b[0;34m(\u001b[0m\u001b[0mself\u001b[0m\u001b[0;34m)\u001b[0m\u001b[0;34m:\u001b[0m\u001b[0;34m\u001b[0m\n",
       "\u001b[0;34m\u001b[0m        \u001b[0;34mr\"\"\"\u001b[0m\n",
       "\u001b[0;34m        Return an iterator for Dyck words with ``k1`` opening and ``k2``\u001b[0m\n",
       "\u001b[0;34m        closing parentheses.\u001b[0m\n",
       "\u001b[0;34m\u001b[0m\n",
       "\u001b[0;34m        EXAMPLES::\u001b[0m\n",
       "\u001b[0;34m\u001b[0m\n",
       "\u001b[0;34m            sage: list(DyckWords(0))\u001b[0m\n",
       "\u001b[0;34m            [[]]\u001b[0m\n",
       "\u001b[0;34m            sage: list(DyckWords(1))\u001b[0m\n",
       "\u001b[0;34m            [[1, 0]]\u001b[0m\n",
       "\u001b[0;34m            sage: list(DyckWords(2))\u001b[0m\n",
       "\u001b[0;34m            [[1, 0, 1, 0], [1, 1, 0, 0]]\u001b[0m\n",
       "\u001b[0;34m            sage: len(DyckWords(5))\u001b[0m\n",
       "\u001b[0;34m            42\u001b[0m\n",
       "\u001b[0;34m            sage: list(DyckWords(3,2))\u001b[0m\n",
       "\u001b[0;34m            [[1, 0, 1, 0, 1],\u001b[0m\n",
       "\u001b[0;34m             [1, 0, 1, 1, 0],\u001b[0m\n",
       "\u001b[0;34m             [1, 1, 0, 0, 1],\u001b[0m\n",
       "\u001b[0;34m             [1, 1, 0, 1, 0],\u001b[0m\n",
       "\u001b[0;34m             [1, 1, 1, 0, 0]]\u001b[0m\n",
       "\u001b[0;34m        \"\"\"\u001b[0m\u001b[0;34m\u001b[0m\n",
       "\u001b[0;34m\u001b[0m        \u001b[0;32mif\u001b[0m \u001b[0mself\u001b[0m\u001b[0;34m.\u001b[0m\u001b[0mk1\u001b[0m \u001b[0;34m==\u001b[0m \u001b[0;36m0\u001b[0m\u001b[0;34m:\u001b[0m\u001b[0;34m\u001b[0m\n",
       "\u001b[0;34m\u001b[0m            \u001b[0;32myield\u001b[0m \u001b[0mself\u001b[0m\u001b[0;34m.\u001b[0m\u001b[0melement_class\u001b[0m\u001b[0;34m(\u001b[0m\u001b[0mself\u001b[0m\u001b[0;34m,\u001b[0m \u001b[0;34m[\u001b[0m\u001b[0;34m]\u001b[0m\u001b[0;34m)\u001b[0m\u001b[0;34m\u001b[0m\n",
       "\u001b[0;34m\u001b[0m        \u001b[0;32melif\u001b[0m \u001b[0mself\u001b[0m\u001b[0;34m.\u001b[0m\u001b[0mk2\u001b[0m \u001b[0;34m==\u001b[0m \u001b[0;36m0\u001b[0m\u001b[0;34m:\u001b[0m\u001b[0;34m\u001b[0m\n",
       "\u001b[0;34m\u001b[0m            \u001b[0;32myield\u001b[0m \u001b[0mself\u001b[0m\u001b[0;34m.\u001b[0m\u001b[0melement_class\u001b[0m\u001b[0;34m(\u001b[0m\u001b[0mself\u001b[0m\u001b[0;34m,\u001b[0m \u001b[0;34m[\u001b[0m\u001b[0mopen_symbol\u001b[0m\u001b[0;34m]\u001b[0m \u001b[0;34m*\u001b[0m \u001b[0mself\u001b[0m\u001b[0;34m.\u001b[0m\u001b[0mk1\u001b[0m\u001b[0;34m)\u001b[0m\u001b[0;34m\u001b[0m\n",
       "\u001b[0;34m\u001b[0m        \u001b[0;32melse\u001b[0m\u001b[0;34m:\u001b[0m\u001b[0;34m\u001b[0m\n",
       "\u001b[0;34m\u001b[0m            \u001b[0;32mfor\u001b[0m \u001b[0mw\u001b[0m \u001b[0;32min\u001b[0m \u001b[0mDyckWordBacktracker\u001b[0m\u001b[0;34m(\u001b[0m\u001b[0mself\u001b[0m\u001b[0;34m.\u001b[0m\u001b[0mk1\u001b[0m\u001b[0;34m,\u001b[0m \u001b[0mself\u001b[0m\u001b[0;34m.\u001b[0m\u001b[0mk2\u001b[0m\u001b[0;34m)\u001b[0m\u001b[0;34m:\u001b[0m\u001b[0;34m\u001b[0m\n",
       "\u001b[0;34m\u001b[0m                \u001b[0;32myield\u001b[0m \u001b[0mself\u001b[0m\u001b[0;34m.\u001b[0m\u001b[0melement_class\u001b[0m\u001b[0;34m(\u001b[0m\u001b[0mself\u001b[0m\u001b[0;34m,\u001b[0m \u001b[0mw\u001b[0m\u001b[0;34m)\u001b[0m\u001b[0;34m\u001b[0m\u001b[0;34m\u001b[0m\u001b[0m\n",
       "\u001b[0;31mFile:\u001b[0m      ~/miniconda3/envs/jupyter-sage/lib/python3.11/site-packages/sage/combinat/dyck_word.py\n",
       "\u001b[0;31mType:\u001b[0m      method"
      ]
     },
     "metadata": {},
     "output_type": "display_data"
    }
   ],
   "source": [
    "DW3.__iter__??"
   ]
  },
  {
   "cell_type": "code",
   "execution_count": 70,
   "id": "74f94392-982f-4ef4-a278-d23e15d0de09",
   "metadata": {},
   "outputs": [
    {
     "data": {
      "text/plain": [
       "\u001b[0;31mSignature:\u001b[0m \u001b[0mDW3\u001b[0m\u001b[0;34m.\u001b[0m\u001b[0mrandom_element\u001b[0m\u001b[0;34m(\u001b[0m\u001b[0;34m)\u001b[0m \u001b[0;34m->\u001b[0m \u001b[0;34m'DyckWord'\u001b[0m\u001b[0;34m\u001b[0m\u001b[0;34m\u001b[0m\u001b[0m\n",
       "\u001b[0;31mDocstring:\u001b[0m\n",
       "   Return a random complete Dyck word of semilength n.\n",
       "\n",
       "   The algorithm is based on a classical combinatorial fact. One\n",
       "   chooses at random a word with n 0's and n+1 1's. One then considers\n",
       "   every 1 as an ascending step and every 0 as a descending step, and\n",
       "   one finds the lowest point of the path (with respect to a slightly\n",
       "   tilted slope). One then cuts the path at this point and builds a\n",
       "   Dyck word by exchanging the two parts of the word and removing the\n",
       "   initial step.\n",
       "\n",
       "   Todo: extend this to m-Dyck words\n",
       "\n",
       "   EXAMPLES:\n",
       "\n",
       "      sage: dw = DyckWords(8)\n",
       "      sage: dw.random_element()  # random\n",
       "      [1, 1, 1, 1, 1, 0, 0, 0, 0, 0, 1, 0, 1, 0, 1, 0]\n",
       "\n",
       "      sage: D = DyckWords(8)\n",
       "      sage: D.random_element() in D\n",
       "      True\n",
       "\u001b[0;31mSource:\u001b[0m   \n",
       "    \u001b[0;32mdef\u001b[0m \u001b[0mrandom_element\u001b[0m\u001b[0;34m(\u001b[0m\u001b[0mself\u001b[0m\u001b[0;34m)\u001b[0m \u001b[0;34m->\u001b[0m \u001b[0mDyckWord\u001b[0m\u001b[0;34m:\u001b[0m\u001b[0;34m\u001b[0m\n",
       "\u001b[0;34m\u001b[0m        \u001b[0;34m\"\"\"\u001b[0m\n",
       "\u001b[0;34m        Return a random complete Dyck word of semilength `n`.\u001b[0m\n",
       "\u001b[0;34m\u001b[0m\n",
       "\u001b[0;34m        The algorithm is based on a classical combinatorial fact. One\u001b[0m\n",
       "\u001b[0;34m        chooses at random a word with `n` 0's and `n+1` 1's. One then\u001b[0m\n",
       "\u001b[0;34m        considers every 1 as an ascending step and every 0 as a\u001b[0m\n",
       "\u001b[0;34m        descending step, and one finds the lowest point of the path\u001b[0m\n",
       "\u001b[0;34m        (with respect to a slightly tilted slope). One then cuts the\u001b[0m\n",
       "\u001b[0;34m        path at this point and builds a Dyck word by exchanging the\u001b[0m\n",
       "\u001b[0;34m        two parts of the word and removing the initial step.\u001b[0m\n",
       "\u001b[0;34m\u001b[0m\n",
       "\u001b[0;34m        .. TODO::\u001b[0m\n",
       "\u001b[0;34m\u001b[0m\n",
       "\u001b[0;34m            extend this to m-Dyck words\u001b[0m\n",
       "\u001b[0;34m\u001b[0m\n",
       "\u001b[0;34m        EXAMPLES::\u001b[0m\n",
       "\u001b[0;34m\u001b[0m\n",
       "\u001b[0;34m            sage: dw = DyckWords(8)\u001b[0m\n",
       "\u001b[0;34m            sage: dw.random_element()  # random\u001b[0m\n",
       "\u001b[0;34m            [1, 1, 1, 1, 1, 0, 0, 0, 0, 0, 1, 0, 1, 0, 1, 0]\u001b[0m\n",
       "\u001b[0;34m\u001b[0m\n",
       "\u001b[0;34m            sage: D = DyckWords(8)\u001b[0m\n",
       "\u001b[0;34m            sage: D.random_element() in D\u001b[0m\n",
       "\u001b[0;34m            True\u001b[0m\n",
       "\u001b[0;34m        \"\"\"\u001b[0m\u001b[0;34m\u001b[0m\n",
       "\u001b[0;34m\u001b[0m        \u001b[0;32mfrom\u001b[0m \u001b[0msage\u001b[0m\u001b[0;34m.\u001b[0m\u001b[0mmisc\u001b[0m\u001b[0;34m.\u001b[0m\u001b[0mprandom\u001b[0m \u001b[0;32mimport\u001b[0m \u001b[0mshuffle\u001b[0m\u001b[0;34m\u001b[0m\n",
       "\u001b[0;34m\u001b[0m        \u001b[0mn\u001b[0m \u001b[0;34m=\u001b[0m \u001b[0mself\u001b[0m\u001b[0;34m.\u001b[0m\u001b[0mk1\u001b[0m\u001b[0;34m\u001b[0m\n",
       "\u001b[0;34m\u001b[0m        \u001b[0mw\u001b[0m \u001b[0;34m=\u001b[0m \u001b[0;34m[\u001b[0m\u001b[0;36m0\u001b[0m\u001b[0;34m]\u001b[0m \u001b[0;34m*\u001b[0m \u001b[0mn\u001b[0m \u001b[0;34m+\u001b[0m \u001b[0;34m[\u001b[0m\u001b[0;36m1\u001b[0m\u001b[0;34m]\u001b[0m \u001b[0;34m*\u001b[0m \u001b[0;34m(\u001b[0m\u001b[0mn\u001b[0m \u001b[0;34m+\u001b[0m \u001b[0;36m1\u001b[0m\u001b[0;34m)\u001b[0m\u001b[0;34m\u001b[0m\n",
       "\u001b[0;34m\u001b[0m        \u001b[0mshuffle\u001b[0m\u001b[0;34m(\u001b[0m\u001b[0mw\u001b[0m\u001b[0;34m)\u001b[0m\u001b[0;34m\u001b[0m\n",
       "\u001b[0;34m\u001b[0m        \u001b[0midx\u001b[0m \u001b[0;34m=\u001b[0m \u001b[0;36m0\u001b[0m\u001b[0;34m\u001b[0m\n",
       "\u001b[0;34m\u001b[0m        \u001b[0mheight\u001b[0m \u001b[0;34m=\u001b[0m \u001b[0;36m0\u001b[0m\u001b[0;34m\u001b[0m\n",
       "\u001b[0;34m\u001b[0m        \u001b[0mheight_min\u001b[0m \u001b[0;34m=\u001b[0m \u001b[0;36m0\u001b[0m\u001b[0;34m\u001b[0m\n",
       "\u001b[0;34m\u001b[0m        \u001b[0;32mfor\u001b[0m \u001b[0mi\u001b[0m \u001b[0;32min\u001b[0m \u001b[0mrange\u001b[0m\u001b[0;34m(\u001b[0m\u001b[0;36m2\u001b[0m \u001b[0;34m*\u001b[0m \u001b[0mn\u001b[0m\u001b[0;34m)\u001b[0m\u001b[0;34m:\u001b[0m\u001b[0;34m\u001b[0m\n",
       "\u001b[0;34m\u001b[0m            \u001b[0;32mif\u001b[0m \u001b[0mw\u001b[0m\u001b[0;34m[\u001b[0m\u001b[0mi\u001b[0m\u001b[0;34m]\u001b[0m \u001b[0;34m==\u001b[0m \u001b[0;36m1\u001b[0m\u001b[0;34m:\u001b[0m\u001b[0;34m\u001b[0m\n",
       "\u001b[0;34m\u001b[0m                \u001b[0mheight\u001b[0m \u001b[0;34m+=\u001b[0m \u001b[0mn\u001b[0m\u001b[0;34m\u001b[0m\n",
       "\u001b[0;34m\u001b[0m            \u001b[0;32melse\u001b[0m\u001b[0;34m:\u001b[0m\u001b[0;34m\u001b[0m\n",
       "\u001b[0;34m\u001b[0m                \u001b[0mheight\u001b[0m \u001b[0;34m-=\u001b[0m \u001b[0mn\u001b[0m \u001b[0;34m+\u001b[0m \u001b[0;36m1\u001b[0m\u001b[0;34m\u001b[0m\n",
       "\u001b[0;34m\u001b[0m                \u001b[0;32mif\u001b[0m \u001b[0mheight\u001b[0m \u001b[0;34m<\u001b[0m \u001b[0mheight_min\u001b[0m\u001b[0;34m:\u001b[0m\u001b[0;34m\u001b[0m\n",
       "\u001b[0;34m\u001b[0m                    \u001b[0mheight_min\u001b[0m \u001b[0;34m=\u001b[0m \u001b[0mheight\u001b[0m\u001b[0;34m\u001b[0m\n",
       "\u001b[0;34m\u001b[0m                    \u001b[0midx\u001b[0m \u001b[0;34m=\u001b[0m \u001b[0mi\u001b[0m \u001b[0;34m+\u001b[0m \u001b[0;36m1\u001b[0m\u001b[0;34m\u001b[0m\n",
       "\u001b[0;34m\u001b[0m        \u001b[0mw\u001b[0m \u001b[0;34m=\u001b[0m \u001b[0mw\u001b[0m\u001b[0;34m[\u001b[0m\u001b[0midx\u001b[0m\u001b[0;34m:\u001b[0m\u001b[0;34m]\u001b[0m \u001b[0;34m+\u001b[0m \u001b[0mw\u001b[0m\u001b[0;34m[\u001b[0m\u001b[0;34m:\u001b[0m\u001b[0midx\u001b[0m\u001b[0;34m]\u001b[0m\u001b[0;34m\u001b[0m\n",
       "\u001b[0;34m\u001b[0m        \u001b[0;32mreturn\u001b[0m \u001b[0mself\u001b[0m\u001b[0;34m.\u001b[0m\u001b[0melement_class\u001b[0m\u001b[0;34m(\u001b[0m\u001b[0mself\u001b[0m\u001b[0;34m,\u001b[0m \u001b[0mw\u001b[0m\u001b[0;34m[\u001b[0m\u001b[0;36m1\u001b[0m\u001b[0;34m:\u001b[0m\u001b[0;34m]\u001b[0m\u001b[0;34m)\u001b[0m\u001b[0;34m\u001b[0m\u001b[0;34m\u001b[0m\u001b[0m\n",
       "\u001b[0;31mFile:\u001b[0m      ~/miniconda3/envs/jupyter-sage/lib/python3.11/site-packages/sage/combinat/dyck_word.py\n",
       "\u001b[0;31mType:\u001b[0m      method"
      ]
     },
     "metadata": {},
     "output_type": "display_data"
    }
   ],
   "source": [
    "DW3.random_element??"
   ]
  },
  {
   "cell_type": "code",
   "execution_count": 58,
   "id": "ce795f2a-00b6-426b-b3f6-53529da5eb0b",
   "metadata": {},
   "outputs": [
    {
     "data": {
      "image/svg+xml": [
       "<?xml version=\"1.0\" standalone=\"no\"?><!DOCTYPE svg PUBLIC \"-//W3C//DTD SVG 1.1//EN\" \"http://www.w3.org/Graphics/SVG/1.1/DTD/svg11.dtd\"><svg xmlns=\"http://www.w3.org/2000/svg\" xmlns:xlink=\"http://www.w3.org/1999/xlink\" width=\"500\" viewBox=\"-0.2 -2.2 6.4 2.4 \"><g style=\"stroke-width:0.1;stroke-linejoin:bevel; stroke-linecap:butt; stroke:black; fill:snow\"><polyline points=\"0,0 1,-1 2,-2 3,-1 4,0 5,-1 6,0 \"/> </g><g style=\"stroke-width:0.05;stroke-linejoin:bevel;stroke-dasharray:0.25; stroke-linecap:butt; stroke:gray; fill:none\"><line x1=\"1\" y1=\"-1\" x2=\"3\" y2=\"-1\"/><line x1=\"0\" y1=\"0\" x2=\"4\" y2=\"0\"/><line x1=\"4\" y1=\"0\" x2=\"6\" y2=\"0\"/></g></svg>"
      ],
      "text/plain": [
       "[1, 1, 0, 0, 1, 0]"
      ]
     },
     "execution_count": 58,
     "metadata": {},
     "output_type": "execute_result"
    }
   ],
   "source": [
    "dw = DyckWord([1,1,0,0,1,0])\n",
    "dw"
   ]
  },
  {
   "cell_type": "code",
   "execution_count": 59,
   "id": "d1776903-27eb-40e6-8910-6b5634b171c6",
   "metadata": {},
   "outputs": [
    {
     "data": {
      "text/plain": [
       "True"
      ]
     },
     "execution_count": 59,
     "metadata": {},
     "output_type": "execute_result"
    }
   ],
   "source": [
    "dw in DW"
   ]
  },
  {
   "cell_type": "code",
   "execution_count": 60,
   "id": "b91a5080-672d-4211-ae66-278dcbdcb2b2",
   "metadata": {},
   "outputs": [
    {
     "data": {
      "text/plain": [
       "True"
      ]
     },
     "execution_count": 60,
     "metadata": {},
     "output_type": "execute_result"
    }
   ],
   "source": [
    "dw in DW3"
   ]
  },
  {
   "cell_type": "code",
   "execution_count": 61,
   "id": "2135b54d-63d6-49a2-8c05-f20d126678af",
   "metadata": {},
   "outputs": [
    {
     "data": {
      "text/plain": [
       "Complete Dyck words"
      ]
     },
     "execution_count": 61,
     "metadata": {},
     "output_type": "execute_result"
    }
   ],
   "source": [
    "dw.parent()"
   ]
  },
  {
   "cell_type": "code",
   "execution_count": 75,
   "id": "1edb72fa-641d-4976-8b8d-bc98c596d507",
   "metadata": {},
   "outputs": [
    {
     "data": {
      "text/plain": [
       "[0, 1, 0]"
      ]
     },
     "execution_count": 75,
     "metadata": {},
     "output_type": "execute_result"
    }
   ],
   "source": [
    "dw.to_area_sequence()"
   ]
  },
  {
   "cell_type": "code",
   "execution_count": 76,
   "id": "0a4810ba-9514-4019-92d5-283502a2ab9b",
   "metadata": {},
   "outputs": [
    {
     "data": {
      "text/plain": [
       "[[0, 0, 0], [0, 0, 1], [0, 1, 0], [0, 1, 1], [0, 1, 2]]"
      ]
     },
     "execution_count": 76,
     "metadata": {},
     "output_type": "execute_result"
    }
   ],
   "source": [
    "[dw.to_area_sequence() for dw in DW3]"
   ]
  },
  {
   "cell_type": "code",
   "execution_count": 62,
   "id": "5a2a1d1a-f8db-46d3-85f9-860984e81839",
   "metadata": {},
   "outputs": [
    {
     "data": {
      "text/plain": [
       "Standard permutations"
      ]
     },
     "execution_count": 62,
     "metadata": {},
     "output_type": "execute_result"
    }
   ],
   "source": [
    "P = Permutations()\n",
    "P"
   ]
  },
  {
   "cell_type": "code",
   "execution_count": 63,
   "id": "e9699890-cee4-4366-95b7-103b2563c69f",
   "metadata": {},
   "outputs": [
    {
     "data": {
      "text/plain": [
       "[Category of infinite enumerated sets with grading,\n",
       " Category of sets with grading,\n",
       " Category of infinite enumerated sets,\n",
       " Category of enumerated sets,\n",
       " Category of infinite sets,\n",
       " Category of sets,\n",
       " Category of sets with partial maps,\n",
       " Category of objects]"
      ]
     },
     "execution_count": 63,
     "metadata": {},
     "output_type": "execute_result"
    }
   ],
   "source": [
    "P.categories()"
   ]
  },
  {
   "cell_type": "code",
   "execution_count": 65,
   "id": "8356a1b8-ce4c-4bbe-ae4e-72f44f6cd294",
   "metadata": {},
   "outputs": [
    {
     "data": {
      "text/plain": [
       "Standard permutations of 3"
      ]
     },
     "execution_count": 65,
     "metadata": {},
     "output_type": "execute_result"
    }
   ],
   "source": [
    "P3 = Permutations(3)\n",
    "P3"
   ]
  },
  {
   "cell_type": "code",
   "execution_count": 69,
   "id": "4b87ca3c-5f06-4ed9-b73f-caeaafb46820",
   "metadata": {},
   "outputs": [
    {
     "data": {
      "text/plain": [
       "6"
      ]
     },
     "execution_count": 69,
     "metadata": {},
     "output_type": "execute_result"
    }
   ],
   "source": [
    "P3.cardinality()"
   ]
  },
  {
   "cell_type": "code",
   "execution_count": 68,
   "id": "dc567f6f-1493-42a1-b4f0-756cfb2dd02d",
   "metadata": {},
   "outputs": [
    {
     "data": {
      "text/plain": [
       "[[1, 2, 3], [1, 3, 2], [2, 1, 3], [2, 3, 1], [3, 1, 2], [3, 2, 1]]"
      ]
     },
     "execution_count": 68,
     "metadata": {},
     "output_type": "execute_result"
    }
   ],
   "source": [
    "list(P3)"
   ]
  },
  {
   "cell_type": "code",
   "execution_count": 71,
   "id": "c89a7137-48e7-4edf-901a-35737ecebcdd",
   "metadata": {},
   "outputs": [
    {
     "data": {
      "text/plain": [
       "[2, 1, 3]"
      ]
     },
     "execution_count": 71,
     "metadata": {},
     "output_type": "execute_result"
    }
   ],
   "source": [
    "P3.random_element()"
   ]
  },
  {
   "cell_type": "code",
   "execution_count": 72,
   "id": "8fa6e9a6-3b2f-433a-a2d9-a72c05f7f857",
   "metadata": {},
   "outputs": [
    {
     "data": {
      "text/plain": [
       "[3, 1, 2]"
      ]
     },
     "execution_count": 72,
     "metadata": {},
     "output_type": "execute_result"
    }
   ],
   "source": [
    " p = Permutation([3,1,2])\n",
    "p"
   ]
  },
  {
   "cell_type": "code",
   "execution_count": 73,
   "id": "55da6162-e771-4a23-9569-ef949ccdf87a",
   "metadata": {},
   "outputs": [
    {
     "data": {
      "text/plain": [
       "Standard permutations"
      ]
     },
     "execution_count": 73,
     "metadata": {},
     "output_type": "execute_result"
    }
   ],
   "source": [
    "p.parent()"
   ]
  },
  {
   "cell_type": "code",
   "execution_count": 74,
   "id": "97f4092b-be3f-473c-bdc0-e479c6b6cdb1",
   "metadata": {},
   "outputs": [
    {
     "data": {
      "text/plain": [
       "True"
      ]
     },
     "execution_count": 74,
     "metadata": {},
     "output_type": "execute_result"
    }
   ],
   "source": [
    "p in P3"
   ]
  },
  {
   "cell_type": "markdown",
   "id": "f2322af8-da10-4163-ab98-1ace952e7a7d",
   "metadata": {},
   "source": [
    "## Some operations on enumerated sets"
   ]
  },
  {
   "cell_type": "code",
   "execution_count": 79,
   "id": "1dc79253-4570-475f-9b62-c464b0a72589",
   "metadata": {},
   "outputs": [],
   "source": [
    "CP3 = cartesian_product([DyckWords(3), Permutations(3)])"
   ]
  },
  {
   "cell_type": "code",
   "execution_count": 80,
   "id": "16296ec8-fe79-4661-893c-06b150610ef0",
   "metadata": {},
   "outputs": [
    {
     "data": {
      "text/plain": [
       "The Cartesian product of (Dyck words with 3 opening parentheses and 3 closing parentheses, Standard permutations of 3)"
      ]
     },
     "execution_count": 80,
     "metadata": {},
     "output_type": "execute_result"
    }
   ],
   "source": [
    "CP3"
   ]
  },
  {
   "cell_type": "code",
   "execution_count": 81,
   "id": "d02b63ea-abe1-48c7-bdf1-b080f2dbba6a",
   "metadata": {},
   "outputs": [
    {
     "data": {
      "text/plain": [
       "[([1, 0, 1, 0, 1, 0], [1, 2, 3]),\n",
       " ([1, 0, 1, 0, 1, 0], [1, 3, 2]),\n",
       " ([1, 0, 1, 0, 1, 0], [2, 1, 3]),\n",
       " ([1, 0, 1, 0, 1, 0], [2, 3, 1]),\n",
       " ([1, 0, 1, 0, 1, 0], [3, 1, 2]),\n",
       " ([1, 0, 1, 0, 1, 0], [3, 2, 1]),\n",
       " ([1, 0, 1, 1, 0, 0], [1, 2, 3]),\n",
       " ([1, 0, 1, 1, 0, 0], [1, 3, 2]),\n",
       " ([1, 0, 1, 1, 0, 0], [2, 1, 3]),\n",
       " ([1, 0, 1, 1, 0, 0], [2, 3, 1]),\n",
       " ([1, 0, 1, 1, 0, 0], [3, 1, 2]),\n",
       " ([1, 0, 1, 1, 0, 0], [3, 2, 1]),\n",
       " ([1, 1, 0, 0, 1, 0], [1, 2, 3]),\n",
       " ([1, 1, 0, 0, 1, 0], [1, 3, 2]),\n",
       " ([1, 1, 0, 0, 1, 0], [2, 1, 3]),\n",
       " ([1, 1, 0, 0, 1, 0], [2, 3, 1]),\n",
       " ([1, 1, 0, 0, 1, 0], [3, 1, 2]),\n",
       " ([1, 1, 0, 0, 1, 0], [3, 2, 1]),\n",
       " ([1, 1, 0, 1, 0, 0], [1, 2, 3]),\n",
       " ([1, 1, 0, 1, 0, 0], [1, 3, 2]),\n",
       " ([1, 1, 0, 1, 0, 0], [2, 1, 3]),\n",
       " ([1, 1, 0, 1, 0, 0], [2, 3, 1]),\n",
       " ([1, 1, 0, 1, 0, 0], [3, 1, 2]),\n",
       " ([1, 1, 0, 1, 0, 0], [3, 2, 1]),\n",
       " ([1, 1, 1, 0, 0, 0], [1, 2, 3]),\n",
       " ([1, 1, 1, 0, 0, 0], [1, 3, 2]),\n",
       " ([1, 1, 1, 0, 0, 0], [2, 1, 3]),\n",
       " ([1, 1, 1, 0, 0, 0], [2, 3, 1]),\n",
       " ([1, 1, 1, 0, 0, 0], [3, 1, 2]),\n",
       " ([1, 1, 1, 0, 0, 0], [3, 2, 1])]"
      ]
     },
     "execution_count": 81,
     "metadata": {},
     "output_type": "execute_result"
    }
   ],
   "source": [
    "list(CP3)"
   ]
  },
  {
   "cell_type": "code",
   "execution_count": 82,
   "id": "0f0f77c7-e084-4474-9069-0f74cbb04e95",
   "metadata": {},
   "outputs": [
    {
     "data": {
      "text/plain": [
       "30"
      ]
     },
     "execution_count": 82,
     "metadata": {},
     "output_type": "execute_result"
    }
   ],
   "source": [
    "CP3.cardinality()"
   ]
  },
  {
   "cell_type": "code",
   "execution_count": 83,
   "id": "b506ff8d-25e7-4a0e-8212-683894139be4",
   "metadata": {},
   "outputs": [
    {
     "data": {
      "text/plain": [
       "([1, 1, 1, 0, 0, 0], [3, 1, 2])"
      ]
     },
     "execution_count": 83,
     "metadata": {},
     "output_type": "execute_result"
    }
   ],
   "source": [
    "CP3.random_element()"
   ]
  },
  {
   "cell_type": "code",
   "execution_count": 1,
   "id": "d69231dd-9877-4671-8694-1b29188f31db",
   "metadata": {},
   "outputs": [],
   "source": [
    "UN3 = DisjointUnionEnumeratedSets([DyckWords(3), Permutations(3)])"
   ]
  },
  {
   "cell_type": "code",
   "execution_count": 2,
   "id": "d96647f3-4a46-4295-850f-705fba719e08",
   "metadata": {},
   "outputs": [
    {
     "data": {
      "text/plain": [
       "Disjoint union of Family (Dyck words with 3 opening parentheses and 3 closing parentheses, Standard permutations of 3)"
      ]
     },
     "execution_count": 2,
     "metadata": {},
     "output_type": "execute_result"
    }
   ],
   "source": [
    "UN3"
   ]
  },
  {
   "cell_type": "code",
   "execution_count": 3,
   "id": "d41f01ff-81d4-476c-9b66-bbce245f8b0d",
   "metadata": {},
   "outputs": [
    {
     "data": {
      "text/plain": [
       "11"
      ]
     },
     "execution_count": 3,
     "metadata": {},
     "output_type": "execute_result"
    }
   ],
   "source": [
    "UN3.cardinality()"
   ]
  },
  {
   "cell_type": "code",
   "execution_count": 4,
   "id": "b8f81687-f89f-43b2-9211-b4633fbbd90e",
   "metadata": {},
   "outputs": [
    {
     "data": {
      "text/plain": [
       "[[1, 0, 1, 0, 1, 0],\n",
       " [1, 0, 1, 1, 0, 0],\n",
       " [1, 1, 0, 0, 1, 0],\n",
       " [1, 1, 0, 1, 0, 0],\n",
       " [1, 1, 1, 0, 0, 0],\n",
       " [1, 2, 3],\n",
       " [1, 3, 2],\n",
       " [2, 1, 3],\n",
       " [2, 3, 1],\n",
       " [3, 1, 2],\n",
       " [3, 2, 1]]"
      ]
     },
     "execution_count": 4,
     "metadata": {},
     "output_type": "execute_result"
    }
   ],
   "source": [
    "list(UN3)"
   ]
  },
  {
   "cell_type": "code",
   "execution_count": 88,
   "id": "b58c7406-abf8-4e70-a847-4c5c9be5d88b",
   "metadata": {},
   "outputs": [],
   "source": [
    "Mod = CombinatorialFreeModule(ZZ, basis_keys = DyckWords(3))"
   ]
  },
  {
   "cell_type": "code",
   "execution_count": 89,
   "id": "15a18cbe-c5cf-4bb2-950f-c9e8e3f57b41",
   "metadata": {},
   "outputs": [
    {
     "data": {
      "text/plain": [
       "Free module generated by Dyck words with 3 opening parentheses and 3 closing parentheses over Integer Ring"
      ]
     },
     "execution_count": 89,
     "metadata": {},
     "output_type": "execute_result"
    }
   ],
   "source": [
    "Mod"
   ]
  },
  {
   "cell_type": "code",
   "execution_count": 90,
   "id": "cc04403c-522e-443d-a058-e33dfddd5a39",
   "metadata": {},
   "outputs": [
    {
     "data": {
      "text/plain": [
       "2*B[[1, 0, 1, 0, 1, 0]] + 2*B[[1, 0, 1, 1, 0, 0]] + 3*B[[1, 1, 0, 0, 1, 0]]"
      ]
     },
     "execution_count": 90,
     "metadata": {},
     "output_type": "execute_result"
    }
   ],
   "source": [
    "Mod.an_element()"
   ]
  },
  {
   "cell_type": "code",
   "execution_count": 92,
   "id": "ff80a2fc-bc0d-4edc-bf2b-104467d8958e",
   "metadata": {},
   "outputs": [
    {
     "data": {
      "text/plain": [
       "B[[1, 0, 1, 0, 1, 0]] + 2*B[[1, 1, 0, 0, 1, 0]]"
      ]
     },
     "execution_count": 92,
     "metadata": {},
     "output_type": "execute_result"
    }
   ],
   "source": [
    "Mod(DyckWord([1,0,1,0,1,0])) + 2*Mod(DyckWord([1,1,0,0,1,0]))"
   ]
  },
  {
   "cell_type": "markdown",
   "id": "55721c68-3ba4-4385-8473-913ec7991729",
   "metadata": {},
   "source": [
    "## Some generating functions"
   ]
  },
  {
   "cell_type": "code",
   "execution_count": 93,
   "id": "6c4b2cae-60bc-4ec9-b8f2-d74d4989cbed",
   "metadata": {},
   "outputs": [
    {
     "data": {
      "text/plain": [
       "Lazy Taylor Series Ring in z over Rational Field"
      ]
     },
     "execution_count": 93,
     "metadata": {},
     "output_type": "execute_result"
    }
   ],
   "source": [
    "L.<z> = LazyPowerSeriesRing(QQ)\n",
    "L"
   ]
  },
  {
   "cell_type": "code",
   "execution_count": 95,
   "id": "d6340a69-5ebe-48f4-9ed9-cd4783178185",
   "metadata": {},
   "outputs": [],
   "source": [
    "C = L.undefined() \n",
    "# C = L() # Sage 9.7"
   ]
  },
  {
   "cell_type": "code",
   "execution_count": 96,
   "id": "4959a615-4266-4718-a1c4-9a9c74991b97",
   "metadata": {},
   "outputs": [],
   "source": [
    "C.define(1 + z*C*C)"
   ]
  },
  {
   "cell_type": "code",
   "execution_count": 97,
   "id": "0f7d7082-59cb-45c6-a06b-2aeef8e905ad",
   "metadata": {},
   "outputs": [
    {
     "data": {
      "text/plain": [
       "1 + z + 2*z^2 + 5*z^3 + 14*z^4 + 42*z^5 + 132*z^6 + O(z^7)"
      ]
     },
     "execution_count": 97,
     "metadata": {},
     "output_type": "execute_result"
    }
   ],
   "source": [
    "C"
   ]
  },
  {
   "cell_type": "code",
   "execution_count": null,
   "id": "23a39ce9-e041-408e-bced-176bf1b4d675",
   "metadata": {},
   "outputs": [],
   "source": []
  }
 ],
 "metadata": {
  "kernelspec": {
   "display_name": "SageMath 10.2",
   "language": "sage",
   "name": "sagemath"
  },
  "language_info": {
   "codemirror_mode": {
    "name": "ipython",
    "version": 3
   },
   "file_extension": ".py",
   "mimetype": "text/x-python",
   "name": "python",
   "nbconvert_exporter": "python",
   "pygments_lexer": "ipython3",
   "version": "3.11.8"
  }
 },
 "nbformat": 4,
 "nbformat_minor": 5
}
