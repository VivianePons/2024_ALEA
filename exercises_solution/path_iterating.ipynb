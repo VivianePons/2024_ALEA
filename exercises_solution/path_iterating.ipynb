{
 "cells": [
  {
   "cell_type": "markdown",
   "id": "a2a4afd2-f68d-47d3-9654-968a72ddab85",
   "metadata": {},
   "source": [
    "# Path iterating\n",
    "\n",
    "This exercise worksheet is designed to help you grasp the concept of python iterators especillay in the context of recursive génération of combinatorial objects.\n",
    "\n",
    "## Iterators\n",
    "\n",
    "### What's an iterator?\n",
    "\n",
    "An iterator is a ``list creator'' it generates objects one by one instead of all at once. Iterators are present everywhre in python and are very easy to create.\n",
    "\n",
    "For example, the `range` object uses an iterator."
   ]
  },
  {
   "cell_type": "code",
   "execution_count": 1,
   "id": "d5821c86-0adb-46f3-a419-9828c1632547",
   "metadata": {},
   "outputs": [
    {
     "data": {
      "text/plain": [
       "range(0, 10)"
      ]
     },
     "execution_count": 1,
     "metadata": {},
     "output_type": "execute_result"
    }
   ],
   "source": [
    "range(10)"
   ]
  },
  {
   "cell_type": "markdown",
   "id": "80db9f19-5f02-4417-8758-bb950b714285",
   "metadata": {},
   "source": [
    "By default, the list of numbers is not created. I create the list explcitly"
   ]
  },
  {
   "cell_type": "code",
   "execution_count": 8,
   "id": "8fcf670a-b0cd-4993-b8d9-b0742d83dfa8",
   "metadata": {},
   "outputs": [
    {
     "data": {
      "text/plain": [
       "[0, 1, 2, 3, 4, 5, 6, 7, 8, 9]"
      ]
     },
     "execution_count": 8,
     "metadata": {},
     "output_type": "execute_result"
    }
   ],
   "source": [
    "L = list(range(10))\n",
    "L"
   ]
  },
  {
   "cell_type": "markdown",
   "id": "389455bf-c3cb-4c3a-b323-de0ed565888e",
   "metadata": {},
   "source": [
    "Or I can iterate through the numbers for example in a for loop"
   ]
  },
  {
   "cell_type": "code",
   "execution_count": 9,
   "id": "b8ff4d73-fe67-4e86-a3bd-8abc9af9e756",
   "metadata": {},
   "outputs": [
    {
     "name": "stdout",
     "output_type": "stream",
     "text": [
      "0\n",
      "1\n",
      "2\n",
      "3\n",
      "4\n",
      "5\n",
      "6\n",
      "7\n",
      "8\n",
      "9\n"
     ]
    }
   ],
   "source": [
    "for i in range(10):\n",
    "    print(i)"
   ]
  },
  {
   "cell_type": "markdown",
   "id": "5733ea56-da5b-4411-8efa-cc58ef622860",
   "metadata": {},
   "source": [
    "### the `yield` statement\n",
    "\n",
    "The \"normal\" way for a python function to return data is to use the `return` statetement as in the following example."
   ]
  },
  {
   "cell_type": "code",
   "execution_count": 10,
   "id": "d93df04a-27b2-439a-82ba-3799673e0ab7",
   "metadata": {},
   "outputs": [],
   "source": [
    "def my_stupid_function():\n",
    "    return [1,2,3]"
   ]
  },
  {
   "cell_type": "code",
   "execution_count": 11,
   "id": "378de0e9-196c-4554-b8ec-ac8fc034af30",
   "metadata": {},
   "outputs": [
    {
     "data": {
      "text/plain": [
       "[1, 2, 3]"
      ]
     },
     "execution_count": 11,
     "metadata": {},
     "output_type": "execute_result"
    }
   ],
   "source": [
    "L = my_stupid_function()\n",
    "L"
   ]
  },
  {
   "cell_type": "markdown",
   "id": "be3a4771-f182-4c06-ac4e-d13369384d4e",
   "metadata": {},
   "source": [
    "Whatever is written after the `return` statement is never executed"
   ]
  },
  {
   "cell_type": "code",
   "execution_count": 14,
   "id": "76e8728c-dc70-44ad-bd4e-7ca58b4fc958",
   "metadata": {},
   "outputs": [],
   "source": [
    "def my_other_stupid_function():\n",
    "    print(\"This is printed\")\n",
    "    return [1,2,3]\n",
    "    print(\"I will never print\")\n",
    "    return 4 # never executed"
   ]
  },
  {
   "cell_type": "code",
   "execution_count": 15,
   "id": "13154711-dc15-4840-98ed-561191c40bc9",
   "metadata": {},
   "outputs": [
    {
     "name": "stdout",
     "output_type": "stream",
     "text": [
      "This is printed\n"
     ]
    },
    {
     "data": {
      "text/plain": [
       "[1, 2, 3]"
      ]
     },
     "execution_count": 15,
     "metadata": {},
     "output_type": "execute_result"
    }
   ],
   "source": [
    "L = my_other_stupid_function()\n",
    "L"
   ]
  },
  {
   "cell_type": "markdown",
   "id": "9373ac31-193f-4f4a-a066-c11725fb3f05",
   "metadata": {},
   "source": [
    "Whenever we use instead the `yield` statement, the function actually returns an *iterator*."
   ]
  },
  {
   "cell_type": "code",
   "execution_count": 28,
   "id": "ca853031-211c-4027-b17c-eace76798c56",
   "metadata": {},
   "outputs": [],
   "source": [
    "def my_stupid_iterator():\n",
    "    print(\"This first line is printed\")\n",
    "    yield 1\n",
    "    print(\"This second line is printed\")\n",
    "    yield 2\n",
    "    print(\"This third line is printed\")\n",
    "    yield 3"
   ]
  },
  {
   "cell_type": "markdown",
   "id": "efcb43cf-a62a-4716-86af-2e2b7311559c",
   "metadata": {},
   "source": [
    "The function is not directly executed when called."
   ]
  },
  {
   "cell_type": "code",
   "execution_count": 29,
   "id": "6b282e88-6f65-4bbf-ba50-df0a1c2159a8",
   "metadata": {},
   "outputs": [
    {
     "data": {
      "text/plain": [
       "<generator object my_stupid_iterator at 0x7fe4c25a7880>"
      ]
     },
     "execution_count": 29,
     "metadata": {},
     "output_type": "execute_result"
    }
   ],
   "source": [
    "it = my_stupid_iterator()\n",
    "it"
   ]
  },
  {
   "cell_type": "markdown",
   "id": "34c6f733-215a-4a3a-82a1-db4e7aeae9f6",
   "metadata": {},
   "source": [
    "If I call the `next` function on my iterator, the function is executed until it reaches the first `yield` statement. Calling `next` return the first yielded value"
   ]
  },
  {
   "cell_type": "code",
   "execution_count": 30,
   "id": "38270906-9783-44bf-a42a-600261357cab",
   "metadata": {},
   "outputs": [
    {
     "name": "stdout",
     "output_type": "stream",
     "text": [
      "This first line is printed\n"
     ]
    }
   ],
   "source": [
    "v = next(it)"
   ]
  },
  {
   "cell_type": "code",
   "execution_count": 31,
   "id": "6e76f3c6-c647-46c6-85c2-df2bee6d96ea",
   "metadata": {},
   "outputs": [
    {
     "data": {
      "text/plain": [
       "1"
      ]
     },
     "execution_count": 31,
     "metadata": {},
     "output_type": "execute_result"
    }
   ],
   "source": [
    "v"
   ]
  },
  {
   "cell_type": "markdown",
   "id": "e0bf7f19-be27-41f7-8bf8-50a24ade0dd4",
   "metadata": {},
   "source": [
    "Each time I call `next`, the function *continues* its execution until it is stopped by a `yield` statement. If there are no more `yield`, the iterator is over (and `next` throws an error)"
   ]
  },
  {
   "cell_type": "code",
   "execution_count": 32,
   "id": "5025b74e-97d1-430d-b748-9b59cd1db339",
   "metadata": {},
   "outputs": [
    {
     "name": "stdout",
     "output_type": "stream",
     "text": [
      "This second line is printed\n"
     ]
    }
   ],
   "source": [
    "v = next(it)"
   ]
  },
  {
   "cell_type": "code",
   "execution_count": 33,
   "id": "07a947f4-17d8-4e4e-b882-e05c49bb5ea2",
   "metadata": {},
   "outputs": [
    {
     "data": {
      "text/plain": [
       "2"
      ]
     },
     "execution_count": 33,
     "metadata": {},
     "output_type": "execute_result"
    }
   ],
   "source": [
    "v"
   ]
  },
  {
   "cell_type": "code",
   "execution_count": 34,
   "id": "da1a585a-63ea-45a1-b6b2-fb7f15e60d12",
   "metadata": {},
   "outputs": [
    {
     "name": "stdout",
     "output_type": "stream",
     "text": [
      "This third line is printed\n"
     ]
    }
   ],
   "source": [
    "v = next(it)"
   ]
  },
  {
   "cell_type": "code",
   "execution_count": 35,
   "id": "c8c6e627-7136-435a-94a1-2848d62c8d8a",
   "metadata": {},
   "outputs": [
    {
     "data": {
      "text/plain": [
       "3"
      ]
     },
     "execution_count": 35,
     "metadata": {},
     "output_type": "execute_result"
    }
   ],
   "source": [
    "v"
   ]
  },
  {
   "cell_type": "code",
   "execution_count": 36,
   "id": "b39b942a-e144-46c5-957c-c586757c491b",
   "metadata": {},
   "outputs": [
    {
     "ename": "StopIteration",
     "evalue": "",
     "output_type": "error",
     "traceback": [
      "\u001b[0;31m---------------------------------------------------------------------------\u001b[0m",
      "\u001b[0;31mStopIteration\u001b[0m                             Traceback (most recent call last)",
      "Cell \u001b[0;32mIn[36], line 1\u001b[0m\n\u001b[0;32m----> 1\u001b[0m \u001b[38;5;28;43mnext\u001b[39;49m\u001b[43m(\u001b[49m\u001b[43mit\u001b[49m\u001b[43m)\u001b[49m\n",
      "\u001b[0;31mStopIteration\u001b[0m: "
     ]
    }
   ],
   "source": [
    "next(it)"
   ]
  },
  {
   "cell_type": "markdown",
   "id": "dc074131-7d6b-41c7-b2ba-58ae71f75892",
   "metadata": {},
   "source": [
    "In practice, we rarelly use `next`. An iterator is either directly tranformed into a list or another structure, or iterated on using a for loop."
   ]
  },
  {
   "cell_type": "code",
   "execution_count": 37,
   "id": "a1010d0c-8bf9-46bf-9426-1635617feaba",
   "metadata": {},
   "outputs": [
    {
     "name": "stdout",
     "output_type": "stream",
     "text": [
      "This first line is printed\n",
      "This second line is printed\n",
      "This third line is printed\n"
     ]
    },
    {
     "data": {
      "text/plain": [
       "[1, 2, 3]"
      ]
     },
     "execution_count": 37,
     "metadata": {},
     "output_type": "execute_result"
    }
   ],
   "source": [
    "L = list(my_stupid_iterator())\n",
    "L"
   ]
  },
  {
   "cell_type": "code",
   "execution_count": 38,
   "id": "8282cbea-604e-4606-9169-c48bf2afb82c",
   "metadata": {},
   "outputs": [
    {
     "name": "stdout",
     "output_type": "stream",
     "text": [
      "This first line is printed\n",
      "This second line is printed\n",
      "This third line is printed\n"
     ]
    },
    {
     "data": {
      "text/plain": [
       "(1, 2, 3)"
      ]
     },
     "execution_count": 38,
     "metadata": {},
     "output_type": "execute_result"
    }
   ],
   "source": [
    "T = tuple(my_stupid_iterator()) # a tuple is a list that cannot be modified later\n",
    "T"
   ]
  },
  {
   "cell_type": "code",
   "execution_count": 40,
   "id": "f343ca1b-e31b-46cc-9823-c2595cfa5b32",
   "metadata": {},
   "outputs": [
    {
     "name": "stdout",
     "output_type": "stream",
     "text": [
      "This first line is printed\n",
      "This second line is printed\n",
      "This third line is printed\n"
     ]
    },
    {
     "data": {
      "text/plain": [
       "{1: 0, 2: 0, 3: 0}"
      ]
     },
     "execution_count": 40,
     "metadata": {},
     "output_type": "execute_result"
    }
   ],
   "source": [
    "d = {v:0 for v in my_stupid_iterator()} # this is a python dictionary\n",
    "d"
   ]
  },
  {
   "cell_type": "code",
   "execution_count": 41,
   "id": "7569cb23-826e-4480-9415-ba19bd90a014",
   "metadata": {},
   "outputs": [
    {
     "name": "stdout",
     "output_type": "stream",
     "text": [
      "This first line is printed\n",
      "1\n",
      "This second line is printed\n",
      "2\n",
      "This third line is printed\n",
      "3\n"
     ]
    }
   ],
   "source": [
    "for v in my_stupid_iterator():\n",
    "    print(v)"
   ]
  },
  {
   "cell_type": "markdown",
   "id": "d3bc44b7-d845-4a23-9df4-501cdd43f2c7",
   "metadata": {},
   "source": [
    "**Exercice** The following function creates the list of the $n^{th}$ first prime numbers, create a similar function returning an iterator."
   ]
  },
  {
   "cell_type": "code",
   "execution_count": 44,
   "id": "7dc23a55-687a-4ef1-832e-2ff8298d5f22",
   "metadata": {},
   "outputs": [],
   "source": [
    "def my_primes_list(n):\n",
    "    L = []\n",
    "    v = 2\n",
    "    c = 0\n",
    "    while c < n:\n",
    "        if is_prime(v):\n",
    "            L.append(v)\n",
    "            c+=1\n",
    "        v+=1\n",
    "    return L"
   ]
  },
  {
   "cell_type": "code",
   "execution_count": 45,
   "id": "bb0fc7b6-54b4-41f8-9315-e02312e52f6a",
   "metadata": {},
   "outputs": [
    {
     "data": {
      "text/plain": [
       "[2, 3, 5, 7, 11, 13, 17, 19, 23, 29]"
      ]
     },
     "execution_count": 45,
     "metadata": {},
     "output_type": "execute_result"
    }
   ],
   "source": [
    "L = my_primes_list(10)\n",
    "L"
   ]
  },
  {
   "cell_type": "code",
   "execution_count": 46,
   "id": "8d032b0c-6f63-4309-a0bc-d4a5d8982a05",
   "metadata": {},
   "outputs": [],
   "source": [
    "def my_primes_iterator(n):\n",
    "    # write your code here\n",
    "    # begin solution\n",
    "    v = 2\n",
    "    c = 0\n",
    "    while c < n:\n",
    "        if is_prime(v):\n",
    "            yield v\n",
    "            c+=1\n",
    "        v+=1\n",
    "    # end solution"
   ]
  },
  {
   "cell_type": "code",
   "execution_count": 47,
   "id": "7553c865-b723-4f54-a7df-36d5c753eba2",
   "metadata": {},
   "outputs": [
    {
     "data": {
      "text/plain": [
       "<generator object my_primes_iterator at 0x7fe4c22fa180>"
      ]
     },
     "execution_count": 47,
     "metadata": {},
     "output_type": "execute_result"
    }
   ],
   "source": [
    "my_primes_iterator(10) # <generator object my_primes_iterator at 0x...>"
   ]
  },
  {
   "cell_type": "code",
   "execution_count": 49,
   "id": "115cee64-a161-4b6d-9a78-74cfd4411305",
   "metadata": {},
   "outputs": [
    {
     "data": {
      "text/plain": [
       "[2, 3, 5, 7, 11, 13, 17, 19, 23, 29]"
      ]
     },
     "execution_count": 49,
     "metadata": {},
     "output_type": "execute_result"
    }
   ],
   "source": [
    "L = list(my_primes_iterator(10)) # the actual list\n",
    "L "
   ]
  },
  {
   "cell_type": "markdown",
   "id": "f4b947a4-46fd-4c8f-b144-43dcb47a1ca8",
   "metadata": {},
   "source": [
    "## Paths\n",
    "\n",
    "### Definition\n",
    "\n",
    "We are going to use iterators to recursively generate list of paths with certain properties. \n",
    "\n",
    "We consider a \"path\" on the plane as a list of \"steps\" where a step is just a 2 dimensional vector (we consider that paths start at $(0,0)$). See the example below"
   ]
  },
  {
   "cell_type": "code",
   "execution_count": 50,
   "id": "b70383c4-0b55-4bbc-819e-fc7da3aea339",
   "metadata": {},
   "outputs": [],
   "source": [
    "step0 = (1,0)\n",
    "step1 = (0,1)"
   ]
  },
  {
   "cell_type": "code",
   "execution_count": 51,
   "id": "2b284091-ba3d-4204-b856-f5d390c9a925",
   "metadata": {},
   "outputs": [
    {
     "data": {
      "text/plain": [
       "[(1, 0), (1, 0), (0, 1), (1, 0)]"
      ]
     },
     "execution_count": 51,
     "metadata": {},
     "output_type": "execute_result"
    }
   ],
   "source": [
    "a_path = [step0,step0,step1,step0]\n",
    "a_path"
   ]
  },
  {
   "cell_type": "markdown",
   "id": "5714a355-d144-457a-b42c-569d38246856",
   "metadata": {},
   "source": [
    "The following function returns an interator on the actual positions of the path on the plane and can be used to plot the path using `line2d`"
   ]
  },
  {
   "cell_type": "code",
   "execution_count": 55,
   "id": "62f4bfb6-419c-4fcd-b23b-e551041d050b",
   "metadata": {},
   "outputs": [],
   "source": [
    "def position_iterator(path):\n",
    "    x = 0\n",
    "    y = 0\n",
    "    yield (x,y)\n",
    "    for step in path:\n",
    "        x+= step[0]\n",
    "        y+= step[1]\n",
    "        yield (x,y)\n",
    "\n",
    "def plot_path(path):\n",
    "    return line2d(position_iterator(path))"
   ]
  },
  {
   "cell_type": "code",
   "execution_count": 56,
   "id": "106c5ef6-5193-4845-bf64-c13a897be532",
   "metadata": {},
   "outputs": [
    {
     "data": {
      "image/png": "[encoded data removed]",
      "text/plain": [
       "Graphics object consisting of 1 graphics primitive"
      ]
     },
     "execution_count": 56,
     "metadata": {},
     "output_type": "execute_result"
    }
   ],
   "source": [
    "plot_path(a_path)"
   ]
  },
  {
   "cell_type": "code",
   "execution_count": 58,
   "id": "a7e71da2-d86f-46cb-9436-799c047cb626",
   "metadata": {},
   "outputs": [
    {
     "data": {
      "image/png": "[encoded data removed]",
      "text/plain": [
       "Graphics object consisting of 1 graphics primitive"
      ]
     },
     "execution_count": 58,
     "metadata": {},
     "output_type": "execute_result"
    }
   ],
   "source": [
    "stair_case = [step1, step0, step1, step0, step1, step0, step1, step0, step1, step0, step1, step0, step1, step0]\n",
    "plot_path(stair_case)"
   ]
  },
  {
   "cell_type": "markdown",
   "id": "5f4daf4a-b41e-4130-ad85-6908f3613b6b",
   "metadata": {},
   "source": [
    "Note that our code can works with any kind of 2 dimensional step"
   ]
  },
  {
   "cell_type": "code",
   "execution_count": 59,
   "id": "ebcefc20-6da7-4bb4-91a4-15fcb17db9e1",
   "metadata": {},
   "outputs": [
    {
     "data": {
      "image/png": "[encoded data removed]",
      "text/plain": [
       "Graphics object consisting of 2 graphics primitives"
      ]
     },
     "execution_count": 59,
     "metadata": {},
     "output_type": "execute_result"
    }
   ],
   "source": [
    "dark_vador_path =  [(0,-1), (0,-1), (0, -1), (0,-1), (0,-1), (0,-1), (0,-1), (1,-1), (1,-1), (1,-1), (0,-1), (0,-1), (-1,0), (-1,0), (-1,1), (-1,1), (-1,-1), (-1,-1), (-1,-1), (-1,0), (1,0), (-1,1), (0,-1), (-1,0), (0,1), (0,1), (1,-1), (-1,1),(0,1), (-1,0), (0, -1), (1,0),(-1,0), (0,-1), (0,-1), (1,0), (-1,0), (-1,0), (0,1), (1,1), (-1,-1), (-1, -1), (1, 0), (-1,0), (-1,1), (0,1), (-1,0), (-1,0), (-1,0), (-1,0), (1,1), (1,1), (1,1), (1,1), (0,1), (0,1), (0,1), (1,1), (1,1), (1,0), (1,0), (1,0), (-1, -1), (-1, -1), (0,-1), (0,-1), (-1,0), (-1,0), (-1,0), (0,-1), (1,0), (1,0), (-1,-1), (1,-1), (1,0), (0,1), (-1,1), (1,0), (0,1), (0,-1), (1,0), (0,1), (0,1), (0,1), (1,1), (1,1), (-1,0), (1,0), (1,0), (1,0), (1,-1), (1,-1), (0,-1), (0,-1), (-1,0), (-1,0), (-1,0), (-1,0), (-1,0), (-1,0), (0,-1), (1,0), (-1,-1), (0,-1), (1,0), (1,1), (-1,1), (1,0), (1,-1), (1,-1), (1,-1)]\n",
    "plot_path(dark_vador_path) + circle((-5,-6), 12) "
   ]
  },
  {
   "cell_type": "markdown",
   "id": "2fa54ee4-9a30-473a-9abf-b1f5cea3cbd1",
   "metadata": {},
   "source": [
    "### Recursive generation\n",
    "\n",
    "Our goal is to generate all paths starting at $(0,0)$ and using the two following steps"
   ]
  },
  {
   "cell_type": "code",
   "execution_count": 60,
   "id": "0fb14206-2cd5-4463-8d04-e96f35d0569a",
   "metadata": {},
   "outputs": [],
   "source": [
    "step0 = (1,0)\n",
    "step1 = (0,1)"
   ]
  },
  {
   "cell_type": "markdown",
   "id": "fad29a24-c39a-4ca4-bb2c-d95afc2a8f15",
   "metadata": {},
   "source": [
    "See the following function that generate paths of length $0$, $1$, and $2$."
   ]
  },
  {
   "cell_type": "code",
   "execution_count": 61,
   "id": "2490c82c-b1f0-488a-bf6c-8e86205d3e12",
   "metadata": {},
   "outputs": [],
   "source": [
    "def paths0():\n",
    "    yield []\n",
    "\n",
    "def paths1():\n",
    "    yield [step0]\n",
    "    yield [step1]\n",
    "\n",
    "def paths2():\n",
    "    steps = [step0, step1]\n",
    "    for path in paths1():\n",
    "        for step in steps:\n",
    "            yield path + [step]"
   ]
  },
  {
   "cell_type": "code",
   "execution_count": 63,
   "id": "8a7444c7-6031-4cb4-99eb-30457e5c60ff",
   "metadata": {},
   "outputs": [
    {
     "data": {
      "text/plain": [
       "[[]]"
      ]
     },
     "execution_count": 63,
     "metadata": {},
     "output_type": "execute_result"
    }
   ],
   "source": [
    "list(paths0())"
   ]
  },
  {
   "cell_type": "code",
   "execution_count": 64,
   "id": "7b3d37c9-30c0-46fb-a6c1-e08cbff0b69c",
   "metadata": {},
   "outputs": [
    {
     "data": {
      "text/plain": [
       "[[(1, 0)], [(0, 1)]]"
      ]
     },
     "execution_count": 64,
     "metadata": {},
     "output_type": "execute_result"
    }
   ],
   "source": [
    "list(paths1())"
   ]
  },
  {
   "cell_type": "code",
   "execution_count": 65,
   "id": "1c8136b0-e840-48b9-abe7-0c7f9a61443f",
   "metadata": {},
   "outputs": [
    {
     "data": {
      "text/plain": [
       "[[(1, 0), (1, 0)], [(1, 0), (0, 1)], [(0, 1), (1, 0)], [(0, 1), (0, 1)]]"
      ]
     },
     "execution_count": 65,
     "metadata": {},
     "output_type": "execute_result"
    }
   ],
   "source": [
    "list(paths2())"
   ]
  },
  {
   "cell_type": "markdown",
   "id": "d717e112-7936-47ef-bf42-3cb5ae1a0ca0",
   "metadata": {},
   "source": [
    "**Exercise** write a recursive funtion that generates all paths of length $n$."
   ]
  },
  {
   "cell_type": "code",
   "execution_count": 69,
   "id": "ac26a6dd-cfd4-4b66-8db8-57c7fcb2d6b8",
   "metadata": {},
   "outputs": [],
   "source": [
    "def paths(n):\n",
    "    # write your code here\n",
    "    # begin solution\n",
    "    steps = [step0, step1]\n",
    "    if n == 0:\n",
    "        yield []\n",
    "    else:\n",
    "        for path in paths(n-1):\n",
    "            for step in steps:\n",
    "                yield path + [step]\n",
    "    # end solution"
   ]
  },
  {
   "cell_type": "code",
   "execution_count": 70,
   "id": "b2f38e75-898f-409c-ada3-36a01c0234a3",
   "metadata": {},
   "outputs": [
    {
     "data": {
      "text/plain": [
       "[[]]"
      ]
     },
     "execution_count": 70,
     "metadata": {},
     "output_type": "execute_result"
    }
   ],
   "source": [
    "# does it work?\n",
    "list(paths(0))"
   ]
  },
  {
   "cell_type": "code",
   "execution_count": 71,
   "id": "40701724-286a-475d-894a-3b856548b0a9",
   "metadata": {},
   "outputs": [
    {
     "data": {
      "text/plain": [
       "[[(1, 0)], [(0, 1)]]"
      ]
     },
     "execution_count": 71,
     "metadata": {},
     "output_type": "execute_result"
    }
   ],
   "source": [
    "list(paths(1))"
   ]
  },
  {
   "cell_type": "code",
   "execution_count": 72,
   "id": "6009b8d4-bf81-417e-aeb3-b80faaec2916",
   "metadata": {},
   "outputs": [
    {
     "data": {
      "text/plain": [
       "[[(1, 0), (1, 0)], [(1, 0), (0, 1)], [(0, 1), (1, 0)], [(0, 1), (0, 1)]]"
      ]
     },
     "execution_count": 72,
     "metadata": {},
     "output_type": "execute_result"
    }
   ],
   "source": [
    "list(paths(2))"
   ]
  },
  {
   "cell_type": "code",
   "execution_count": 73,
   "id": "f2b8964f-2df2-4065-baf8-0114a4d1f7b6",
   "metadata": {},
   "outputs": [
    {
     "data": {
      "text/plain": [
       "[[(1, 0), (1, 0), (1, 0)],\n",
       " [(1, 0), (1, 0), (0, 1)],\n",
       " [(1, 0), (0, 1), (1, 0)],\n",
       " [(1, 0), (0, 1), (0, 1)],\n",
       " [(0, 1), (1, 0), (1, 0)],\n",
       " [(0, 1), (1, 0), (0, 1)],\n",
       " [(0, 1), (0, 1), (1, 0)],\n",
       " [(0, 1), (0, 1), (0, 1)]]"
      ]
     },
     "execution_count": 73,
     "metadata": {},
     "output_type": "execute_result"
    }
   ],
   "source": [
    "list(paths(3))"
   ]
  },
  {
   "cell_type": "code",
   "execution_count": 75,
   "id": "90429bd3-bc5f-4cb3-808c-bb4623f5a592",
   "metadata": {},
   "outputs": [],
   "source": [
    "# we check that we have the right number of paths\n",
    "assert len(list(paths(0))) == 1\n",
    "assert len(list(paths(1))) == 2\n",
    "assert len(list(paths(2))) == 4\n",
    "assert len(list(paths(3))) == 8\n",
    "assert len(list(paths(4))) == 16"
   ]
  },
  {
   "cell_type": "markdown",
   "id": "86734b3e-6e79-41aa-9964-54c051bc57ec",
   "metadata": {},
   "source": [
    "**Exercise** Generate all paths using steps $(1,0)$ and $(0,1)$ ending at a specific position $(a,b)$\n",
    "\n",
    "Note: do NOT generate all paths and check their final position, do better!"
   ]
  },
  {
   "cell_type": "code",
   "execution_count": 76,
   "id": "7396b6a9-5d80-4221-a439-50ca093e6133",
   "metadata": {},
   "outputs": [],
   "source": [
    "def paths_end(a,b):\n",
    "    # write your code here\n",
    "    # begin solution\n",
    "    if a == 0 and b == 0:\n",
    "        yield []\n",
    "    elif a <0 or b < 0:\n",
    "        return\n",
    "    else:\n",
    "        for path in paths_end(a-1,b):\n",
    "            yield path + [(1,0)]\n",
    "        for path in paths_end(a,b-1):\n",
    "            yield path + [(0,1)]\n",
    "    # end solution"
   ]
  },
  {
   "cell_type": "code",
   "execution_count": 77,
   "id": "4b1dcd9e-2fcd-417b-ba44-8a75c4f5a918",
   "metadata": {},
   "outputs": [
    {
     "data": {
      "text/plain": [
       "[[]]"
      ]
     },
     "execution_count": 77,
     "metadata": {},
     "output_type": "execute_result"
    }
   ],
   "source": [
    "list(paths_end(0,0)) # only the empty path"
   ]
  },
  {
   "cell_type": "code",
   "execution_count": 78,
   "id": "07ee6a7f-da64-41fc-8b9b-ea451f26886f",
   "metadata": {},
   "outputs": [
    {
     "data": {
      "text/plain": [
       "[[(1, 0)]]"
      ]
     },
     "execution_count": 78,
     "metadata": {},
     "output_type": "execute_result"
    }
   ],
   "source": [
    "list(paths_end(1,0)) # one path"
   ]
  },
  {
   "cell_type": "code",
   "execution_count": 79,
   "id": "4ac39c2a-37c9-44d2-9b72-6010306a2ba2",
   "metadata": {},
   "outputs": [
    {
     "data": {
      "text/plain": [
       "[[(0, 1)]]"
      ]
     },
     "execution_count": 79,
     "metadata": {},
     "output_type": "execute_result"
    }
   ],
   "source": [
    "list(paths_end(0,1)) # one path"
   ]
  },
  {
   "cell_type": "code",
   "execution_count": 80,
   "id": "f38bccfb-52be-4cd0-a586-20b0c6e73cbe",
   "metadata": {},
   "outputs": [
    {
     "data": {
      "text/plain": [
       "[[(0, 1), (1, 0)], [(1, 0), (0, 1)]]"
      ]
     },
     "execution_count": 80,
     "metadata": {},
     "output_type": "execute_result"
    }
   ],
   "source": [
    "list(paths_end(1,1)) # two paths"
   ]
  },
  {
   "cell_type": "code",
   "execution_count": 81,
   "id": "16494558-f72d-40f6-86af-08feab5cec7d",
   "metadata": {},
   "outputs": [],
   "source": [
    "assert len(list(paths_end(0,0))) == 1\n",
    "assert len(list(paths_end(1,1))) == 2\n",
    "assert len(list(paths_end(2,2))) == 6\n",
    "assert len(list(paths_end(3,3))) == 20\n",
    "assert len(list(paths_end(4,4))) == 70"
   ]
  },
  {
   "cell_type": "markdown",
   "id": "a8eafef2-cfd3-417a-a66e-712510779faa",
   "metadata": {},
   "source": [
    "**Exercise** Generate all paths using steps $(1,0)$ and $(0,1)$ ending at a specific position $(a,b)$ and never going under the diagonal $y = x$."
   ]
  },
  {
   "cell_type": "code",
   "execution_count": 82,
   "id": "2edb012f-4c57-44be-a69c-15cb9d733ca6",
   "metadata": {},
   "outputs": [],
   "source": [
    "def paths_up_end(a,b):\n",
    "    # write your code here\n",
    "    # begin solution\n",
    "    if a == 0 and b == 0:\n",
    "        yield []\n",
    "    elif a <0 or b < a:\n",
    "        return\n",
    "    else:\n",
    "        for path in paths_up_end(a-1,b):\n",
    "            yield path + [(1,0)]\n",
    "        for path in paths_up_end(a,b-1):\n",
    "            yield path + [(0,1)]\n",
    "    # end solution"
   ]
  },
  {
   "cell_type": "code",
   "execution_count": 83,
   "id": "80345ba5-e30a-466b-8d1a-bb33a8e91ede",
   "metadata": {},
   "outputs": [
    {
     "data": {
      "text/plain": [
       "[[]]"
      ]
     },
     "execution_count": 83,
     "metadata": {},
     "output_type": "execute_result"
    }
   ],
   "source": [
    "list(paths_up_end(0,0)) # only the empty path"
   ]
  },
  {
   "cell_type": "code",
   "execution_count": 84,
   "id": "dafe8124-2bb7-450b-af41-b62dd4315e7f",
   "metadata": {},
   "outputs": [
    {
     "data": {
      "text/plain": [
       "[[(0, 1)]]"
      ]
     },
     "execution_count": 84,
     "metadata": {},
     "output_type": "execute_result"
    }
   ],
   "source": [
    "list(paths_up_end(0,1)) # one path"
   ]
  },
  {
   "cell_type": "code",
   "execution_count": 85,
   "id": "aba2c8a7-96cd-4de2-9c94-6446a7ee9acf",
   "metadata": {},
   "outputs": [
    {
     "data": {
      "text/plain": [
       "[[(0, 1), (1, 0)]]"
      ]
     },
     "execution_count": 85,
     "metadata": {},
     "output_type": "execute_result"
    }
   ],
   "source": [
    "list(paths_up_end(1,1)) # one path"
   ]
  },
  {
   "cell_type": "code",
   "execution_count": 86,
   "id": "ceea0359-1543-4348-be62-a2e5d71383e5",
   "metadata": {},
   "outputs": [
    {
     "data": {
      "text/plain": [
       "[[(0, 1), (0, 1), (1, 0), (1, 0)], [(0, 1), (1, 0), (0, 1), (1, 0)]]"
      ]
     },
     "execution_count": 86,
     "metadata": {},
     "output_type": "execute_result"
    }
   ],
   "source": [
    "list(paths_up_end(2,2)) # two paths"
   ]
  },
  {
   "cell_type": "code",
   "execution_count": 87,
   "id": "7e8d154e-5205-4264-ad8a-701d3e62d476",
   "metadata": {},
   "outputs": [
    {
     "data": {
      "text/plain": [
       "[[(0, 1), (0, 1), (0, 1), (1, 0), (1, 0), (1, 0)],\n",
       " [(0, 1), (0, 1), (1, 0), (0, 1), (1, 0), (1, 0)],\n",
       " [(0, 1), (1, 0), (0, 1), (0, 1), (1, 0), (1, 0)],\n",
       " [(0, 1), (0, 1), (1, 0), (1, 0), (0, 1), (1, 0)],\n",
       " [(0, 1), (1, 0), (0, 1), (1, 0), (0, 1), (1, 0)]]"
      ]
     },
     "execution_count": 87,
     "metadata": {},
     "output_type": "execute_result"
    }
   ],
   "source": [
    "list(paths_up_end(3,3)) # 5 paths"
   ]
  },
  {
   "cell_type": "code",
   "execution_count": 88,
   "id": "04f6aa11-32c7-4fc4-a8aa-0a1b4acbee12",
   "metadata": {},
   "outputs": [],
   "source": [
    "assert len(list(paths_up_end(0,0))) == 1\n",
    "assert len(list(paths_up_end(1,1))) == 1\n",
    "assert len(list(paths_up_end(2,2))) == 2\n",
    "assert len(list(paths_up_end(3,3))) == 5\n",
    "assert len(list(paths_up_end(4,4))) == 14\n",
    "assert len(list(paths_up_end(5,5))) == 42"
   ]
  },
  {
   "cell_type": "markdown",
   "id": "8b86e396-3e8b-49e1-a6fd-1f26761e943f",
   "metadata": {},
   "source": [
    "Have fun : what other paths can you generate?"
   ]
  },
  {
   "cell_type": "code",
   "execution_count": null,
   "id": "35ca203b-e222-4970-9ec0-36d02165073d",
   "metadata": {},
   "outputs": [],
   "source": []
  }
 ],
 "metadata": {
  "kernelspec": {
   "display_name": "SageMath 10.2",
   "language": "sage",
   "name": "sagemath"
  },
  "language_info": {
   "codemirror_mode": {
    "name": "ipython",
    "version": 3
   },
   "file_extension": ".py",
   "mimetype": "text/x-python",
   "name": "python",
   "nbconvert_exporter": "python",
   "pygments_lexer": "ipython3",
   "version": "3.11.8"
  }
 },
 "nbformat": 4,
 "nbformat_minor": 5
}
